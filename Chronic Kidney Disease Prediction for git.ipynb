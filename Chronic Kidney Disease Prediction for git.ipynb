{
 "cells": [
  {
   "cell_type": "markdown",
   "id": "bf76b9dd",
   "metadata": {
    "toc": true
   },
   "source": [
    "<h1>Table of Contents<span class=\"tocSkip\"></span></h1>\n",
    "<div class=\"toc\"><ul class=\"toc-item\"><li><span><a href=\"#Data-set-information\" data-toc-modified-id=\"Data-set-information-1\">Data set information</a></span><ul class=\"toc-item\"><li><span><a href=\"#Features\" data-toc-modified-id=\"Features-1.1\">Features</a></span></li></ul></li><li><span><a href=\"#Imports\" data-toc-modified-id=\"Imports-2\">Imports</a></span></li><li><span><a href=\"#Preprocessing\" data-toc-modified-id=\"Preprocessing-3\">Preprocessing</a></span><ul class=\"toc-item\"><li><ul class=\"toc-item\"><li><span><a href=\"#remove-the-id-column\" data-toc-modified-id=\"remove-the-id-column-3.0.1\">remove the id column</a></span></li><li><span><a href=\"#clean-categorical-data\" data-toc-modified-id=\"clean-categorical-data-3.0.2\">clean categorical data</a></span><ul class=\"toc-item\"><li><span><a href=\"#clean-tabs-and-spaces\" data-toc-modified-id=\"clean-tabs-and-spaces-3.0.2.1\">clean tabs and spaces</a></span></li><li><span><a href=\"#convert-classification-to-0-and-1\" data-toc-modified-id=\"convert-classification-to-0-and-1-3.0.2.2\">convert classification to 0 and 1</a></span></li></ul></li></ul></li><li><span><a href=\"#filling-missing-values\" data-toc-modified-id=\"filling-missing-values-3.1\">filling missing values</a></span></li><li><span><a href=\"#Distribution-of-features\" data-toc-modified-id=\"Distribution-of-features-3.2\">Distribution of features</a></span><ul class=\"toc-item\"><li><span><a href=\"#numeric_columns-distribution\" data-toc-modified-id=\"numeric_columns-distribution-3.2.1\">numeric_columns distribution</a></span></li><li><span><a href=\"#categorical_columns-distribution\" data-toc-modified-id=\"categorical_columns-distribution-3.2.2\">categorical_columns distribution</a></span></li><li><span><a href=\"#categorical_columns-distribution-based-on-classification\" data-toc-modified-id=\"categorical_columns-distribution-based-on-classification-3.2.3\">categorical_columns distribution based on classification</a></span></li></ul></li><li><span><a href=\"#Correlations\" data-toc-modified-id=\"Correlations-3.3\">Correlations</a></span></li><li><span><a href=\"#Encoding\" data-toc-modified-id=\"Encoding-3.4\">Encoding</a></span></li></ul></li><li><span><a href=\"#model-creation\" data-toc-modified-id=\"model-creation-4\">model creation</a></span><ul class=\"toc-item\"><li><span><a href=\"#models-without-scaling\" data-toc-modified-id=\"models-without-scaling-4.1\">models without scaling</a></span></li><li><span><a href=\"#model-after-scaling\" data-toc-modified-id=\"model-after-scaling-4.2\">model after scaling</a></span></li><li><span><a href=\"#comparison-of-models-before-and-after-scaling\" data-toc-modified-id=\"comparison-of-models-before-and-after-scaling-4.3\">comparison of models before and after scaling</a></span></li><li><span><a href=\"#feature-importance\" data-toc-modified-id=\"feature-importance-4.4\">feature importance</a></span><ul class=\"toc-item\"><li><span><a href=\"#LogisticRegression\" data-toc-modified-id=\"LogisticRegression-4.4.1\">LogisticRegression</a></span></li><li><span><a href=\"#RandomForestClassifier\" data-toc-modified-id=\"RandomForestClassifier-4.4.2\">RandomForestClassifier</a></span></li><li><span><a href=\"#Lightgbm\" data-toc-modified-id=\"Lightgbm-4.4.3\">Lightgbm</a></span></li></ul></li></ul></li><li><span><a href=\"#Conclusion\" data-toc-modified-id=\"Conclusion-5\">Conclusion</a></span></li></ul></div>"
   ]
  },
  {
   "cell_type": "markdown",
   "id": "55cb907c",
   "metadata": {},
   "source": [
    "# Data set information\n",
    "link: https://archive.ics.uci.edu/ml/datasets/Chronic_Kidney_Disease\n",
    "\n",
    "The data set was collected over two months of period.\n",
    "\n",
    "<!-- |||\n",
    "|:--|:--|\n",
    "| age - age| bp - blood pressure|\n",
    "|sg - specific gravity|al - albumin|\n",
    "su - sugar | rbc - red blood cells\n",
    "pc - pus cell | pcc - pus cell clumps\n",
    "ba - bacteria | bgr - blood glucose random\n",
    "bu - blood urea | sc - serum creatinine\n",
    "sod - sodium | pot - potassium\n",
    "hemo - hemoglobin | pcv - packed cell volume\n",
    "wc - white blood cell count | rc - red blood cell count\n",
    "htn - hypertension | dm - diabetes mellitus\n",
    "cad - coronary artery disease | appet - appetite\n",
    "pe - pedal edema | ane - anemia\n",
    "class - class -->\n",
    "\n",
    "\n",
    "\n",
    "## Features\n",
    "\n",
    "Total 24 features are in the dataset out of which 11 are neumeric and 14 are categorical.\n",
    "\n",
    "Numeric features:\n",
    "\n",
    "| | |\n",
    "|:-|:-|\n",
    "Age | age in years\n",
    "Blood Pressure | bp in mm/Hg\n",
    "Blood Glucose Random | bgr in mgs/dl\n",
    "Blood Urea | bu in mgs/dl\n",
    "Serum Creatinine| sc in mgs/dl\n",
    "Sodium | sod in mEq/L\n",
    "Potassium | pot in mEq/L\n",
    "Hemoglobin | hemo in gms\n",
    "Packed Cell Volume\n",
    "White Blood Cell Count | wc in cells/cumm\n",
    "Red Blood Cell Count | rc in millions/cmm\n",
    "\n",
    "<br>\n",
    "Categorical features\n",
    "    \n",
    "| | |\n",
    "|:-|:-|\n",
    "Specific Gravity | sg - (1.005,1.010,1.015,1.020,1.025)\n",
    "Albumin | al - (0,1,2,3,4,5)\n",
    "Sugar | su - (0,1,2,3,4,5)\n",
    "Red Blood Cells | rbc - (normal,abnormal)\n",
    "Pus Cell  | pc - (normal,abnormal)\n",
    "Pus Cell clumps | pcc - (present,notpresent)\n",
    "Bacteria | ba - (present,notpresent)\n",
    "Hypertension | htn - (yes,no)\n",
    "Diabetes Mellitus | dm - (yes,no)\n",
    "Coronary Artery Disease | cad - (yes,no)\n",
    "Appetite | appet - (good,poor)\n",
    "Pedal Edema | pe - (yes,no)\n",
    "Anemia | ane - (yes,no)\n",
    "Class  | class - (ckd,not ckd)\n",
    "\n"
   ]
  },
  {
   "cell_type": "markdown",
   "id": "6eda0f27",
   "metadata": {},
   "source": [
    "# Imports"
   ]
  },
  {
   "cell_type": "code",
   "execution_count": 1,
   "id": "ef8f9d4d",
   "metadata": {
    "ExecuteTime": {
     "end_time": "2022-04-09T20:37:48.798435Z",
     "start_time": "2022-04-09T20:37:46.521595Z"
    }
   },
   "outputs": [],
   "source": [
    "import numpy as np\n",
    "import pandas as pd\n",
    "import seaborn as sns\n",
    "import matplotlib.pyplot as plt\n",
    "# import plotly.express as px"
   ]
  },
  {
   "cell_type": "code",
   "execution_count": 2,
   "id": "b844246b",
   "metadata": {
    "ExecuteTime": {
     "end_time": "2022-04-09T20:37:48.813266Z",
     "start_time": "2022-04-09T20:37:48.800632Z"
    }
   },
   "outputs": [],
   "source": [
    "df = pd.read_csv(\"kidney_disease.csv\")"
   ]
  },
  {
   "cell_type": "markdown",
   "id": "4b9656d6",
   "metadata": {},
   "source": [
    "# Preprocessing"
   ]
  },
  {
   "cell_type": "code",
   "execution_count": 3,
   "id": "9d6f8124",
   "metadata": {
    "ExecuteTime": {
     "end_time": "2022-04-09T20:37:48.824435Z",
     "start_time": "2022-04-09T20:37:48.816922Z"
    }
   },
   "outputs": [
    {
     "data": {
      "text/plain": [
       "Index(['id', 'age', 'bp', 'sg', 'al', 'su', 'rbc', 'pc', 'pcc', 'ba', 'bgr',\n",
       "       'bu', 'sc', 'sod', 'pot', 'hemo', 'pcv', 'wc', 'rc', 'htn', 'dm', 'cad',\n",
       "       'appet', 'pe', 'ane', 'classification'],\n",
       "      dtype='object')"
      ]
     },
     "execution_count": 3,
     "metadata": {},
     "output_type": "execute_result"
    }
   ],
   "source": [
    "df.columns"
   ]
  },
  {
   "cell_type": "markdown",
   "id": "7a210df6",
   "metadata": {},
   "source": [
    "Rename the columns for better understanding"
   ]
  },
  {
   "cell_type": "code",
   "execution_count": 4,
   "id": "dc42d7dd",
   "metadata": {
    "ExecuteTime": {
     "end_time": "2022-04-09T20:37:48.837205Z",
     "start_time": "2022-04-09T20:37:48.827707Z"
    }
   },
   "outputs": [],
   "source": [
    "# rename columns\n",
    "column_names={\"bp\":\"blood_pressure\",\n",
    "          \"sg\":\"specific_gravity\",\n",
    "          \"al\":\"albumin\",\n",
    "          \"su\":\"sugar\",\n",
    "          \"rbc\":\"red_blood_cells\",\n",
    "          \"pc\":\"pus_cell\",\n",
    "          \"pcc\":\"pus_cell_clumps\",\n",
    "          \"ba\":\"bacteria\",\n",
    "          \"bgr\":\"blood_glucose_random\",\n",
    "          \"bu\":\"blood_urea\",\n",
    "          \"sc\":\"serum_creatinine\",\n",
    "          \"sod\":\"sodium\",\n",
    "          \"pot\":\"potassium\",\n",
    "          \"hemo\":\"haemoglobin\",\n",
    "          \"pcv\":\"packed_cell_volume\",\n",
    "          \"wc\":\"white_blood_cell_count\",\n",
    "          \"rc\":\"red_blood_cell_count\",\n",
    "          \"htn\":\"hypertension\",\n",
    "          \"dm\":\"diabetes_mellitus\",\n",
    "          \"cad\":\"coronary_artery_disease\",\n",
    "          \"appet\":\"appetite\",\n",
    "          \"pe\":\"pedal_edema\",\n",
    "          \"ane\":\"anemia\"}\n",
    "\n",
    "df.rename(columns=column_names, inplace=True)"
   ]
  },
  {
   "cell_type": "code",
   "execution_count": 5,
   "id": "5aea7a5d",
   "metadata": {
    "ExecuteTime": {
     "end_time": "2022-04-09T20:37:48.873745Z",
     "start_time": "2022-04-09T20:37:48.840126Z"
    }
   },
   "outputs": [
    {
     "data": {
      "text/html": [
       "<div>\n",
       "<style scoped>\n",
       "    .dataframe tbody tr th:only-of-type {\n",
       "        vertical-align: middle;\n",
       "    }\n",
       "\n",
       "    .dataframe tbody tr th {\n",
       "        vertical-align: top;\n",
       "    }\n",
       "\n",
       "    .dataframe thead th {\n",
       "        text-align: right;\n",
       "    }\n",
       "</style>\n",
       "<table border=\"1\" class=\"dataframe\">\n",
       "  <thead>\n",
       "    <tr style=\"text-align: right;\">\n",
       "      <th></th>\n",
       "      <th>id</th>\n",
       "      <th>age</th>\n",
       "      <th>blood_pressure</th>\n",
       "      <th>specific_gravity</th>\n",
       "      <th>albumin</th>\n",
       "      <th>sugar</th>\n",
       "      <th>red_blood_cells</th>\n",
       "      <th>pus_cell</th>\n",
       "      <th>pus_cell_clumps</th>\n",
       "      <th>bacteria</th>\n",
       "      <th>...</th>\n",
       "      <th>packed_cell_volume</th>\n",
       "      <th>white_blood_cell_count</th>\n",
       "      <th>red_blood_cell_count</th>\n",
       "      <th>hypertension</th>\n",
       "      <th>diabetes_mellitus</th>\n",
       "      <th>coronary_artery_disease</th>\n",
       "      <th>appetite</th>\n",
       "      <th>pedal_edema</th>\n",
       "      <th>anemia</th>\n",
       "      <th>classification</th>\n",
       "    </tr>\n",
       "  </thead>\n",
       "  <tbody>\n",
       "    <tr>\n",
       "      <th>0</th>\n",
       "      <td>0</td>\n",
       "      <td>48.0</td>\n",
       "      <td>80.0</td>\n",
       "      <td>1.02</td>\n",
       "      <td>1.0</td>\n",
       "      <td>0.0</td>\n",
       "      <td>NaN</td>\n",
       "      <td>normal</td>\n",
       "      <td>notpresent</td>\n",
       "      <td>notpresent</td>\n",
       "      <td>...</td>\n",
       "      <td>44</td>\n",
       "      <td>7800</td>\n",
       "      <td>5.2</td>\n",
       "      <td>yes</td>\n",
       "      <td>yes</td>\n",
       "      <td>no</td>\n",
       "      <td>good</td>\n",
       "      <td>no</td>\n",
       "      <td>no</td>\n",
       "      <td>ckd</td>\n",
       "    </tr>\n",
       "    <tr>\n",
       "      <th>1</th>\n",
       "      <td>1</td>\n",
       "      <td>7.0</td>\n",
       "      <td>50.0</td>\n",
       "      <td>1.02</td>\n",
       "      <td>4.0</td>\n",
       "      <td>0.0</td>\n",
       "      <td>NaN</td>\n",
       "      <td>normal</td>\n",
       "      <td>notpresent</td>\n",
       "      <td>notpresent</td>\n",
       "      <td>...</td>\n",
       "      <td>38</td>\n",
       "      <td>6000</td>\n",
       "      <td>NaN</td>\n",
       "      <td>no</td>\n",
       "      <td>no</td>\n",
       "      <td>no</td>\n",
       "      <td>good</td>\n",
       "      <td>no</td>\n",
       "      <td>no</td>\n",
       "      <td>ckd</td>\n",
       "    </tr>\n",
       "    <tr>\n",
       "      <th>2</th>\n",
       "      <td>2</td>\n",
       "      <td>62.0</td>\n",
       "      <td>80.0</td>\n",
       "      <td>1.01</td>\n",
       "      <td>2.0</td>\n",
       "      <td>3.0</td>\n",
       "      <td>normal</td>\n",
       "      <td>normal</td>\n",
       "      <td>notpresent</td>\n",
       "      <td>notpresent</td>\n",
       "      <td>...</td>\n",
       "      <td>31</td>\n",
       "      <td>7500</td>\n",
       "      <td>NaN</td>\n",
       "      <td>no</td>\n",
       "      <td>yes</td>\n",
       "      <td>no</td>\n",
       "      <td>poor</td>\n",
       "      <td>no</td>\n",
       "      <td>yes</td>\n",
       "      <td>ckd</td>\n",
       "    </tr>\n",
       "  </tbody>\n",
       "</table>\n",
       "<p>3 rows × 26 columns</p>\n",
       "</div>"
      ],
      "text/plain": [
       "   id   age  blood_pressure  specific_gravity  albumin  sugar red_blood_cells  \\\n",
       "0   0  48.0            80.0              1.02      1.0    0.0             NaN   \n",
       "1   1   7.0            50.0              1.02      4.0    0.0             NaN   \n",
       "2   2  62.0            80.0              1.01      2.0    3.0          normal   \n",
       "\n",
       "  pus_cell pus_cell_clumps    bacteria  ...  packed_cell_volume  \\\n",
       "0   normal      notpresent  notpresent  ...                  44   \n",
       "1   normal      notpresent  notpresent  ...                  38   \n",
       "2   normal      notpresent  notpresent  ...                  31   \n",
       "\n",
       "   white_blood_cell_count  red_blood_cell_count  hypertension  \\\n",
       "0                    7800                   5.2           yes   \n",
       "1                    6000                   NaN            no   \n",
       "2                    7500                   NaN            no   \n",
       "\n",
       "   diabetes_mellitus  coronary_artery_disease appetite pedal_edema anemia  \\\n",
       "0                yes                       no     good          no     no   \n",
       "1                 no                       no     good          no     no   \n",
       "2                yes                       no     poor          no    yes   \n",
       "\n",
       "  classification  \n",
       "0            ckd  \n",
       "1            ckd  \n",
       "2            ckd  \n",
       "\n",
       "[3 rows x 26 columns]"
      ]
     },
     "execution_count": 5,
     "metadata": {},
     "output_type": "execute_result"
    }
   ],
   "source": [
    "df.head(3)"
   ]
  },
  {
   "cell_type": "code",
   "execution_count": 6,
   "id": "903ea00a",
   "metadata": {
    "ExecuteTime": {
     "end_time": "2022-04-09T20:37:48.896393Z",
     "start_time": "2022-04-09T20:37:48.876405Z"
    }
   },
   "outputs": [
    {
     "name": "stdout",
     "output_type": "stream",
     "text": [
      "<class 'pandas.core.frame.DataFrame'>\n",
      "RangeIndex: 400 entries, 0 to 399\n",
      "Data columns (total 26 columns):\n",
      " #   Column                   Non-Null Count  Dtype  \n",
      "---  ------                   --------------  -----  \n",
      " 0   id                       400 non-null    int64  \n",
      " 1   age                      391 non-null    float64\n",
      " 2   blood_pressure           388 non-null    float64\n",
      " 3   specific_gravity         353 non-null    float64\n",
      " 4   albumin                  354 non-null    float64\n",
      " 5   sugar                    351 non-null    float64\n",
      " 6   red_blood_cells          248 non-null    object \n",
      " 7   pus_cell                 335 non-null    object \n",
      " 8   pus_cell_clumps          396 non-null    object \n",
      " 9   bacteria                 396 non-null    object \n",
      " 10  blood_glucose_random     356 non-null    float64\n",
      " 11  blood_urea               381 non-null    float64\n",
      " 12  serum_creatinine         383 non-null    float64\n",
      " 13  sodium                   313 non-null    float64\n",
      " 14  potassium                312 non-null    float64\n",
      " 15  haemoglobin              348 non-null    float64\n",
      " 16  packed_cell_volume       330 non-null    object \n",
      " 17  white_blood_cell_count   295 non-null    object \n",
      " 18  red_blood_cell_count     270 non-null    object \n",
      " 19  hypertension             398 non-null    object \n",
      " 20  diabetes_mellitus        398 non-null    object \n",
      " 21  coronary_artery_disease  398 non-null    object \n",
      " 22  appetite                 399 non-null    object \n",
      " 23  pedal_edema              399 non-null    object \n",
      " 24  anemia                   399 non-null    object \n",
      " 25  classification           400 non-null    object \n",
      "dtypes: float64(11), int64(1), object(14)\n",
      "memory usage: 81.4+ KB\n"
     ]
    }
   ],
   "source": [
    "df.info()"
   ]
  },
  {
   "cell_type": "markdown",
   "id": "3e4b4b17",
   "metadata": {},
   "source": [
    "some features from numeric features are dtype 'object'.\n",
    "Covert these to numeric."
   ]
  },
  {
   "cell_type": "code",
   "execution_count": 7,
   "id": "21f5fe8f",
   "metadata": {
    "ExecuteTime": {
     "end_time": "2022-04-09T20:37:48.909348Z",
     "start_time": "2022-04-09T20:37:48.900006Z"
    }
   },
   "outputs": [],
   "source": [
    "df['red_blood_cell_count']=pd.to_numeric(df['red_blood_cell_count'],errors='coerce')\n",
    "df['packed_cell_volume']=pd.to_numeric(df['packed_cell_volume'],errors='coerce')\n",
    "df['white_blood_cell_count']=pd.to_numeric(df['white_blood_cell_count'],errors='coerce')\n",
    "# error coerce means if the value is not numeric it will return NAN"
   ]
  },
  {
   "cell_type": "code",
   "execution_count": 8,
   "id": "358194fb",
   "metadata": {
    "ExecuteTime": {
     "end_time": "2022-04-09T20:37:48.932604Z",
     "start_time": "2022-04-09T20:37:48.914935Z"
    }
   },
   "outputs": [
    {
     "name": "stdout",
     "output_type": "stream",
     "text": [
      "<class 'pandas.core.frame.DataFrame'>\n",
      "RangeIndex: 400 entries, 0 to 399\n",
      "Data columns (total 26 columns):\n",
      " #   Column                   Non-Null Count  Dtype  \n",
      "---  ------                   --------------  -----  \n",
      " 0   id                       400 non-null    int64  \n",
      " 1   age                      391 non-null    float64\n",
      " 2   blood_pressure           388 non-null    float64\n",
      " 3   specific_gravity         353 non-null    float64\n",
      " 4   albumin                  354 non-null    float64\n",
      " 5   sugar                    351 non-null    float64\n",
      " 6   red_blood_cells          248 non-null    object \n",
      " 7   pus_cell                 335 non-null    object \n",
      " 8   pus_cell_clumps          396 non-null    object \n",
      " 9   bacteria                 396 non-null    object \n",
      " 10  blood_glucose_random     356 non-null    float64\n",
      " 11  blood_urea               381 non-null    float64\n",
      " 12  serum_creatinine         383 non-null    float64\n",
      " 13  sodium                   313 non-null    float64\n",
      " 14  potassium                312 non-null    float64\n",
      " 15  haemoglobin              348 non-null    float64\n",
      " 16  packed_cell_volume       329 non-null    float64\n",
      " 17  white_blood_cell_count   294 non-null    float64\n",
      " 18  red_blood_cell_count     269 non-null    float64\n",
      " 19  hypertension             398 non-null    object \n",
      " 20  diabetes_mellitus        398 non-null    object \n",
      " 21  coronary_artery_disease  398 non-null    object \n",
      " 22  appetite                 399 non-null    object \n",
      " 23  pedal_edema              399 non-null    object \n",
      " 24  anemia                   399 non-null    object \n",
      " 25  classification           400 non-null    object \n",
      "dtypes: float64(14), int64(1), object(11)\n",
      "memory usage: 81.4+ KB\n"
     ]
    }
   ],
   "source": [
    "df.info()"
   ]
  },
  {
   "cell_type": "markdown",
   "id": "96ce520c",
   "metadata": {},
   "source": [
    "### remove the id column"
   ]
  },
  {
   "cell_type": "code",
   "execution_count": 9,
   "id": "36e2efeb",
   "metadata": {
    "ExecuteTime": {
     "end_time": "2022-04-09T20:37:48.950513Z",
     "start_time": "2022-04-09T20:37:48.939355Z"
    }
   },
   "outputs": [],
   "source": [
    "df.drop(['id'],axis=1,inplace=True)"
   ]
  },
  {
   "cell_type": "markdown",
   "id": "89006302",
   "metadata": {},
   "source": [
    "### clean categorical data"
   ]
  },
  {
   "cell_type": "code",
   "execution_count": 10,
   "id": "a8e95d2a",
   "metadata": {
    "ExecuteTime": {
     "end_time": "2022-04-09T20:37:48.964791Z",
     "start_time": "2022-04-09T20:37:48.955876Z"
    }
   },
   "outputs": [
    {
     "data": {
      "text/plain": [
       "['red_blood_cells',\n",
       " 'pus_cell',\n",
       " 'pus_cell_clumps',\n",
       " 'bacteria',\n",
       " 'hypertension',\n",
       " 'diabetes_mellitus',\n",
       " 'coronary_artery_disease',\n",
       " 'appetite',\n",
       " 'pedal_edema',\n",
       " 'anemia',\n",
       " 'classification']"
      ]
     },
     "execution_count": 10,
     "metadata": {},
     "output_type": "execute_result"
    }
   ],
   "source": [
    "categorical_columns = [col for col in df.columns if df[col].dtype=='object']\n",
    "categorical_columns"
   ]
  },
  {
   "cell_type": "code",
   "execution_count": 11,
   "id": "20597b62",
   "metadata": {
    "ExecuteTime": {
     "end_time": "2022-04-09T20:37:48.981407Z",
     "start_time": "2022-04-09T20:37:48.971024Z"
    }
   },
   "outputs": [
    {
     "name": "stdout",
     "output_type": "stream",
     "text": [
      "red_blood_cells :\n",
      "[nan 'normal' 'abnormal'] \n",
      "\n",
      "pus_cell :\n",
      "['normal' 'abnormal' nan] \n",
      "\n",
      "pus_cell_clumps :\n",
      "['notpresent' 'present' nan] \n",
      "\n",
      "bacteria :\n",
      "['notpresent' 'present' nan] \n",
      "\n",
      "hypertension :\n",
      "['yes' 'no' nan] \n",
      "\n",
      "diabetes_mellitus :\n",
      "['yes' 'no' ' yes' '\\tno' '\\tyes' nan] \n",
      "\n",
      "coronary_artery_disease :\n",
      "['no' 'yes' '\\tno' nan] \n",
      "\n",
      "appetite :\n",
      "['good' 'poor' nan] \n",
      "\n",
      "pedal_edema :\n",
      "['no' 'yes' nan] \n",
      "\n",
      "anemia :\n",
      "['no' 'yes' nan] \n",
      "\n",
      "classification :\n",
      "['ckd' 'ckd\\t' 'notckd'] \n",
      "\n"
     ]
    }
   ],
   "source": [
    "# check unique categorical values\n",
    "for col in categorical_columns:\n",
    "    print(col,\":\")\n",
    "    print(df[col].unique(),\"\\n\")"
   ]
  },
  {
   "cell_type": "markdown",
   "id": "feb4aac1",
   "metadata": {},
   "source": [
    "#### clean tabs and spaces"
   ]
  },
  {
   "cell_type": "code",
   "execution_count": 12,
   "id": "7c231ce6",
   "metadata": {
    "ExecuteTime": {
     "end_time": "2022-04-09T20:37:48.997066Z",
     "start_time": "2022-04-09T20:37:48.984398Z"
    }
   },
   "outputs": [],
   "source": [
    "for col in categorical_columns:\n",
    "#     print(col,\":\")\n",
    "    df[col]=df[col].str.strip(' \\t')"
   ]
  },
  {
   "cell_type": "code",
   "execution_count": 13,
   "id": "52328804",
   "metadata": {
    "ExecuteTime": {
     "end_time": "2022-04-09T20:37:49.009017Z",
     "start_time": "2022-04-09T20:37:48.999839Z"
    }
   },
   "outputs": [
    {
     "name": "stdout",
     "output_type": "stream",
     "text": [
      "red_blood_cells :\n",
      "[nan 'normal' 'abnormal'] \n",
      "\n",
      "pus_cell :\n",
      "['normal' 'abnormal' nan] \n",
      "\n",
      "pus_cell_clumps :\n",
      "['notpresent' 'present' nan] \n",
      "\n",
      "bacteria :\n",
      "['notpresent' 'present' nan] \n",
      "\n",
      "hypertension :\n",
      "['yes' 'no' nan] \n",
      "\n",
      "diabetes_mellitus :\n",
      "['yes' 'no' nan] \n",
      "\n",
      "coronary_artery_disease :\n",
      "['no' 'yes' nan] \n",
      "\n",
      "appetite :\n",
      "['good' 'poor' nan] \n",
      "\n",
      "pedal_edema :\n",
      "['no' 'yes' nan] \n",
      "\n",
      "anemia :\n",
      "['no' 'yes' nan] \n",
      "\n",
      "classification :\n",
      "['ckd' 'notckd'] \n",
      "\n"
     ]
    }
   ],
   "source": [
    "for col in categorical_columns:\n",
    "    print(col,\":\")\n",
    "    print(df[col].unique(),\"\\n\")"
   ]
  },
  {
   "cell_type": "markdown",
   "id": "0ec6badf",
   "metadata": {},
   "source": [
    "#### convert classification to 0 and 1"
   ]
  },
  {
   "cell_type": "code",
   "execution_count": 14,
   "id": "979edd5b",
   "metadata": {
    "ExecuteTime": {
     "end_time": "2022-04-09T20:37:49.023985Z",
     "start_time": "2022-04-09T20:37:49.018158Z"
    }
   },
   "outputs": [],
   "source": [
    "df[\"classification\"]=np.where(df['classification']=='ckd',1,0)\n"
   ]
  },
  {
   "cell_type": "code",
   "execution_count": 15,
   "id": "b5857bd6",
   "metadata": {
    "ExecuteTime": {
     "end_time": "2022-04-09T20:37:49.036690Z",
     "start_time": "2022-04-09T20:37:49.027773Z"
    }
   },
   "outputs": [
    {
     "data": {
      "text/plain": [
       "1    250\n",
       "0    150\n",
       "Name: classification, dtype: int64"
      ]
     },
     "execution_count": 15,
     "metadata": {},
     "output_type": "execute_result"
    }
   ],
   "source": [
    "df['classification'].value_counts()"
   ]
  },
  {
   "cell_type": "markdown",
   "id": "5107da3b",
   "metadata": {},
   "source": [
    "## filling missing values"
   ]
  },
  {
   "cell_type": "markdown",
   "id": "b19e68cc",
   "metadata": {},
   "source": [
    "there are several ways missing values can be filled.\n",
    "1. use mode for categorial values and mean for numerical values\n",
    "2. use nearest neighbour to replace the nan values for categorical values."
   ]
  },
  {
   "cell_type": "code",
   "execution_count": 16,
   "id": "f8cef15d",
   "metadata": {
    "ExecuteTime": {
     "end_time": "2022-04-09T20:37:49.050652Z",
     "start_time": "2022-04-09T20:37:49.040161Z"
    }
   },
   "outputs": [
    {
     "data": {
      "text/plain": [
       "age                          9\n",
       "blood_pressure              12\n",
       "specific_gravity            47\n",
       "albumin                     46\n",
       "sugar                       49\n",
       "red_blood_cells            152\n",
       "pus_cell                    65\n",
       "pus_cell_clumps              4\n",
       "bacteria                     4\n",
       "blood_glucose_random        44\n",
       "blood_urea                  19\n",
       "serum_creatinine            17\n",
       "sodium                      87\n",
       "potassium                   88\n",
       "haemoglobin                 52\n",
       "packed_cell_volume          71\n",
       "white_blood_cell_count     106\n",
       "red_blood_cell_count       131\n",
       "hypertension                 2\n",
       "diabetes_mellitus            2\n",
       "coronary_artery_disease      2\n",
       "appetite                     1\n",
       "pedal_edema                  1\n",
       "anemia                       1\n",
       "classification               0\n",
       "dtype: int64"
      ]
     },
     "execution_count": 16,
     "metadata": {},
     "output_type": "execute_result"
    }
   ],
   "source": [
    "df.isna().sum()"
   ]
  },
  {
   "cell_type": "code",
   "execution_count": 17,
   "id": "300f9650",
   "metadata": {
    "ExecuteTime": {
     "end_time": "2022-04-09T20:37:49.059379Z",
     "start_time": "2022-04-09T20:37:49.053703Z"
    }
   },
   "outputs": [],
   "source": [
    "df_org = df.copy()"
   ]
  },
  {
   "cell_type": "code",
   "execution_count": 18,
   "id": "bfec3cd2",
   "metadata": {
    "ExecuteTime": {
     "end_time": "2022-04-09T20:37:49.071520Z",
     "start_time": "2022-04-09T20:37:49.062703Z"
    }
   },
   "outputs": [
    {
     "name": "stdout",
     "output_type": "stream",
     "text": [
      "categorical_columns : \n",
      " ['red_blood_cells', 'pus_cell', 'pus_cell_clumps', 'bacteria', 'hypertension', 'diabetes_mellitus', 'coronary_artery_disease', 'appetite', 'pedal_edema', 'anemia'] \n",
      "\n",
      "numeric_columns: \n",
      " ['age', 'blood_pressure', 'specific_gravity', 'albumin', 'sugar', 'blood_glucose_random', 'blood_urea', 'serum_creatinine', 'sodium', 'potassium', 'haemoglobin', 'packed_cell_volume', 'white_blood_cell_count', 'red_blood_cell_count', 'classification']\n"
     ]
    }
   ],
   "source": [
    "categorical_columns = [col for col in df_org if df[col].dtype=='object']\n",
    "print(\"categorical_columns : \\n\",categorical_columns,'\\n')\n",
    "\n",
    "numeric_columns = [col for col in df_org if df[col].dtype!='object']\n",
    "print(\"numeric_columns: \\n\",numeric_columns)"
   ]
  },
  {
   "cell_type": "code",
   "execution_count": 19,
   "id": "1182f6cc",
   "metadata": {
    "ExecuteTime": {
     "end_time": "2022-04-09T20:37:49.080549Z",
     "start_time": "2022-04-09T20:37:49.074251Z"
    }
   },
   "outputs": [],
   "source": [
    "def col_stat(feature,stat='mean'):\n",
    "    col_data = df_org[df_org[feature].notnull()]\n",
    "    if stat=='mean':\n",
    "        value = col_data.groupby(\"classification\")[col].mean()\n",
    "    if stat=='median':\n",
    "        value = col_data.groupby(\"classification\")[col].median()\n",
    "    if stat=='mode':\n",
    "        value = col_data.groupby(\"classification\")[col].agg(pd.Series.mode)\n",
    "    return value"
   ]
  },
  {
   "cell_type": "code",
   "execution_count": 20,
   "id": "41149949",
   "metadata": {
    "ExecuteTime": {
     "end_time": "2022-04-09T20:37:49.129551Z",
     "start_time": "2022-04-09T20:37:49.084078Z"
    },
    "scrolled": true
   },
   "outputs": [
    {
     "name": "stdout",
     "output_type": "stream",
     "text": [
      "classification\n",
      "0    46.516779\n",
      "1    54.541322\n",
      "Name: age, dtype: float64 \n",
      "\n",
      "classification\n",
      "0    71.351351\n",
      "1    79.625000\n",
      "Name: blood_pressure, dtype: float64 \n",
      "\n",
      "classification\n",
      "0    1.022414\n",
      "1    1.013918\n",
      "Name: specific_gravity, dtype: float64 \n",
      "\n",
      "classification\n",
      "0    0.000000\n",
      "1    1.722488\n",
      "Name: albumin, dtype: float64 \n",
      "\n",
      "classification\n",
      "0    0.00000\n",
      "1    0.76699\n",
      "Name: sugar, dtype: float64 \n",
      "\n",
      "classification\n",
      "0    107.722222\n",
      "1    175.419811\n",
      "Name: blood_glucose_random, dtype: float64 \n",
      "\n",
      "classification\n",
      "0    32.798611\n",
      "1    72.389030\n",
      "Name: blood_urea, dtype: float64 \n",
      "\n",
      "classification\n",
      "0    0.868966\n",
      "1    4.414916\n",
      "Name: serum_creatinine, dtype: float64 \n",
      "\n",
      "classification\n",
      "0    141.731034\n",
      "1    133.901786\n",
      "Name: sodium, dtype: float64 \n",
      "\n",
      "classification\n",
      "0    4.337931\n",
      "1    4.878443\n",
      "Name: potassium, dtype: float64 \n",
      "\n",
      "classification\n",
      "0    15.188194\n",
      "1    10.647549\n",
      "Name: haemoglobin, dtype: float64 \n",
      "\n",
      "classification\n",
      "0    46.335616\n",
      "1    32.939891\n",
      "Name: packed_cell_volume, dtype: float64 \n",
      "\n",
      "classification\n",
      "0    7705.594406\n",
      "1    9069.536424\n",
      "Name: white_blood_cell_count, dtype: float64 \n",
      "\n",
      "classification\n",
      "0    5.379021\n",
      "1    3.945238\n",
      "Name: red_blood_cell_count, dtype: float64 \n",
      "\n"
     ]
    }
   ],
   "source": [
    "for col in numeric_columns[:-1]:\n",
    "    print(col_stat(col,'mean'),\"\\n\")"
   ]
  },
  {
   "cell_type": "markdown",
   "id": "85aed98d",
   "metadata": {},
   "source": [
    "There is a differences in mean values for ckd and notckd. Hence I am going to fill the null values based on classification feature.\n",
    "\n",
    "\n",
    "I am using mean for numeric values and mode for categorical values."
   ]
  },
  {
   "cell_type": "code",
   "execution_count": 21,
   "id": "8a81cd76",
   "metadata": {
    "ExecuteTime": {
     "end_time": "2022-04-09T20:37:49.176703Z",
     "start_time": "2022-04-09T20:37:49.134207Z"
    }
   },
   "outputs": [],
   "source": [
    "for col in numeric_columns[:-1]:\n",
    "    mean = col_stat(col,stat='mean')\n",
    "    df_org.loc[(df_org[col].isnull()) & (df_org['classification']== 0),col] = mean[0]\n",
    "    df_org.loc[(df_org[col].isnull()) & (df_org['classification']== 1),col] = mean[1]\n",
    "    "
   ]
  },
  {
   "cell_type": "code",
   "execution_count": 22,
   "id": "5765a63c",
   "metadata": {
    "ExecuteTime": {
     "end_time": "2022-04-09T20:37:49.188553Z",
     "start_time": "2022-04-09T20:37:49.180657Z"
    }
   },
   "outputs": [
    {
     "data": {
      "text/plain": [
       "age                       0\n",
       "blood_pressure            0\n",
       "specific_gravity          0\n",
       "albumin                   0\n",
       "sugar                     0\n",
       "blood_glucose_random      0\n",
       "blood_urea                0\n",
       "serum_creatinine          0\n",
       "sodium                    0\n",
       "potassium                 0\n",
       "haemoglobin               0\n",
       "packed_cell_volume        0\n",
       "white_blood_cell_count    0\n",
       "red_blood_cell_count      0\n",
       "classification            0\n",
       "dtype: int64"
      ]
     },
     "execution_count": 22,
     "metadata": {},
     "output_type": "execute_result"
    }
   ],
   "source": [
    "df_org[numeric_columns].isnull().sum()"
   ]
  },
  {
   "cell_type": "code",
   "execution_count": 23,
   "id": "bf15e112",
   "metadata": {
    "ExecuteTime": {
     "end_time": "2022-04-09T20:37:49.196039Z",
     "start_time": "2022-04-09T20:37:49.191710Z"
    }
   },
   "outputs": [
    {
     "data": {
      "text/plain": [
       "['red_blood_cells',\n",
       " 'pus_cell',\n",
       " 'pus_cell_clumps',\n",
       " 'bacteria',\n",
       " 'hypertension',\n",
       " 'diabetes_mellitus',\n",
       " 'coronary_artery_disease',\n",
       " 'appetite',\n",
       " 'pedal_edema',\n",
       " 'anemia']"
      ]
     },
     "execution_count": 23,
     "metadata": {},
     "output_type": "execute_result"
    }
   ],
   "source": [
    "categorical_columns"
   ]
  },
  {
   "cell_type": "code",
   "execution_count": 24,
   "id": "33db5fc5",
   "metadata": {
    "ExecuteTime": {
     "end_time": "2022-04-09T20:37:49.234853Z",
     "start_time": "2022-04-09T20:37:49.199058Z"
    }
   },
   "outputs": [],
   "source": [
    "for col in categorical_columns:\n",
    "    mode = col_stat(col,stat='mode')\n",
    "    df_org.loc[(df_org[col].isnull()) & (df_org['classification']== 0),col] = mode[0]\n",
    "    df_org.loc[(df_org[col].isnull()) & (df_org['classification']== 1),col] = mode[1]"
   ]
  },
  {
   "cell_type": "code",
   "execution_count": 25,
   "id": "5e54e377",
   "metadata": {
    "ExecuteTime": {
     "end_time": "2022-04-09T20:37:49.247327Z",
     "start_time": "2022-04-09T20:37:49.238309Z"
    }
   },
   "outputs": [
    {
     "data": {
      "text/plain": [
       "red_blood_cells            0\n",
       "pus_cell                   0\n",
       "pus_cell_clumps            0\n",
       "bacteria                   0\n",
       "hypertension               0\n",
       "diabetes_mellitus          0\n",
       "coronary_artery_disease    0\n",
       "appetite                   0\n",
       "pedal_edema                0\n",
       "anemia                     0\n",
       "dtype: int64"
      ]
     },
     "execution_count": 25,
     "metadata": {},
     "output_type": "execute_result"
    }
   ],
   "source": [
    "df_org[categorical_columns].isnull().sum()"
   ]
  },
  {
   "cell_type": "markdown",
   "id": "a2723b77",
   "metadata": {},
   "source": [
    "## Distribution of features"
   ]
  },
  {
   "cell_type": "markdown",
   "id": "e963e38a",
   "metadata": {},
   "source": [
    "### numeric_columns distribution"
   ]
  },
  {
   "cell_type": "code",
   "execution_count": 26,
   "id": "834241cf",
   "metadata": {
    "ExecuteTime": {
     "end_time": "2022-04-09T20:37:54.150003Z",
     "start_time": "2022-04-09T20:37:49.250345Z"
    },
    "scrolled": false
   },
   "outputs": [
    {
     "data": {
      "image/png": "[encoded data removed]",
      "text/plain": [
       "<Figure size 720x1080 with 15 Axes>"
      ]
     },
     "metadata": {
      "needs_background": "light"
     },
     "output_type": "display_data"
    }
   ],
   "source": [
    "\n",
    "n_cols = 3\n",
    "n_rows = len(numeric_columns)//n_cols \n",
    "\n",
    "plt.rc('font',size=12)\n",
    "fig, axes = plt.subplots(nrows=n_rows, ncols=n_cols,\n",
    "                         figsize = [10,15])\n",
    "\n",
    "positions = list(np.ndindex(n_rows,n_cols))\n",
    "for i,c in enumerate(numeric_columns[:-1]):\n",
    "    sns.histplot(df_org[[c,'classification']],x=c,hue='classification',\n",
    "                 ax = axes[positions[i]],bins=10)\n",
    "plt.tight_layout()\n",
    "plt.savefig(\"images/numeric_distribution.png\",facecolor='white', transparent=False,dpi=150)\n"
   ]
  },
  {
   "cell_type": "markdown",
   "id": "57fc989a",
   "metadata": {},
   "source": [
    "### categorical_columns distribution"
   ]
  },
  {
   "cell_type": "code",
   "execution_count": 27,
   "id": "9943b890",
   "metadata": {
    "ExecuteTime": {
     "end_time": "2022-04-09T20:37:55.039883Z",
     "start_time": "2022-04-09T20:37:54.152225Z"
    }
   },
   "outputs": [
    {
     "data": {
      "image/png": "[encoded data removed]",
      "text/plain": [
       "<Figure size 1080x1080 with 9 Axes>"
      ]
     },
     "metadata": {
      "needs_background": "light"
     },
     "output_type": "display_data"
    }
   ],
   "source": [
    "plt.rc('font',size=14)\n",
    "n_rows = len(categorical_columns)\n",
    "plt.rc('font',size = 20)\n",
    "plt.figure(figsize=(15,15))\n",
    "for i,c in enumerate(categorical_columns[:-1]):\n",
    "    plt.subplot(int(n_rows/3),3,i+1)\n",
    "    sns.countplot(x=c,data=df_org)\n",
    "    \n",
    "plt.tight_layout()\n",
    "# plt.savefig(\"images/categorical_columns.png\",facecolor='white', transparent=False,dpi=150)"
   ]
  },
  {
   "cell_type": "markdown",
   "id": "43434831",
   "metadata": {},
   "source": [
    "### categorical_columns distribution based on classification "
   ]
  },
  {
   "cell_type": "code",
   "execution_count": 28,
   "id": "c8570cb5",
   "metadata": {
    "ExecuteTime": {
     "end_time": "2022-04-09T20:37:56.369190Z",
     "start_time": "2022-04-09T20:37:55.042411Z"
    }
   },
   "outputs": [
    {
     "data": {
      "image/png": "[encoded data removed]",
      "text/plain": [
       "<Figure size 1080x1080 with 9 Axes>"
      ]
     },
     "metadata": {
      "needs_background": "light"
     },
     "output_type": "display_data"
    }
   ],
   "source": [
    "n_rows = len(categorical_columns)\n",
    "\n",
    "plt.rc('font',size = 20)\n",
    "plt.figure(figsize=(15,15))\n",
    "for i,c in enumerate(categorical_columns[:-1]):\n",
    "    plt.subplot(int(n_rows/3),3,i+1)\n",
    "    sns.countplot(x=c,data=df_org,hue='classification')\n",
    "\n",
    "plt.tight_layout()\n",
    "# plt.savefig(\"images/categorical_columns_with_class.png\",facecolor='white', transparent=False,dpi=150)"
   ]
  },
  {
   "cell_type": "markdown",
   "id": "797f806d",
   "metadata": {},
   "source": [
    "## Correlations"
   ]
  },
  {
   "cell_type": "code",
   "execution_count": 29,
   "id": "07b2a74c",
   "metadata": {
    "ExecuteTime": {
     "end_time": "2022-04-09T20:37:57.723576Z",
     "start_time": "2022-04-09T20:37:56.371856Z"
    }
   },
   "outputs": [
    {
     "data": {
      "image/png": "[encoded data removed]",
      "text/plain": [
       "<Figure size 864x720 with 2 Axes>"
      ]
     },
     "metadata": {
      "needs_background": "light"
     },
     "output_type": "display_data"
    }
   ],
   "source": [
    "plt.rc('font',size=16)\n",
    "plt.figure(figsize=[12,10])\n",
    "sns.heatmap(df_org[numeric_columns[:-1]].corr(),\n",
    "            annot=True,linewidths=0.5,cmap='BrBG',\n",
    "            annot_kws={\"fontsize\":14},fmt='0.1f',vmin=-1,vmax=1)\n",
    "\n",
    "plt.tight_layout()\n",
    "# plt.savefig(\"images/corr1.png\",facecolor='white', transparent=False,dpi=150)"
   ]
  },
  {
   "cell_type": "markdown",
   "id": "f96f2da2",
   "metadata": {},
   "source": [
    "Very strong correlations between 'Haemoglobin', 'packed_cell_volume', and 'red_blood_cell_count'. Lets check the Variance Inflation Factor (VIF)."
   ]
  },
  {
   "cell_type": "code",
   "execution_count": 30,
   "id": "4ccae902",
   "metadata": {
    "ExecuteTime": {
     "end_time": "2022-04-09T20:37:57.896127Z",
     "start_time": "2022-04-09T20:37:57.725660Z"
    }
   },
   "outputs": [],
   "source": [
    "from sklearn.linear_model import LinearRegression"
   ]
  },
  {
   "cell_type": "code",
   "execution_count": 31,
   "id": "8fbcaac0",
   "metadata": {
    "ExecuteTime": {
     "end_time": "2022-04-09T20:37:57.902527Z",
     "start_time": "2022-04-09T20:37:57.898516Z"
    }
   },
   "outputs": [],
   "source": [
    "df_n = df_org[numeric_columns[:-1]] # remove classification"
   ]
  },
  {
   "cell_type": "code",
   "execution_count": 32,
   "id": "144e3bea",
   "metadata": {
    "ExecuteTime": {
     "end_time": "2022-04-09T20:37:57.910565Z",
     "start_time": "2022-04-09T20:37:57.904820Z"
    }
   },
   "outputs": [],
   "source": [
    "def sklearn_vif(features,df):\n",
    "    '''Return VIF (variance inflation factor) DataFrame\n",
    "\n",
    "    Args:\n",
    "    features (list): list of features/independent variables\n",
    "    df (DataFrame): the df storing all variables\n",
    "\n",
    "    Returns:\n",
    "    VIF and Tolerance DataFrame for each exogenous variable\n",
    "\n",
    "    Notes:\n",
    "    Assume we have a list of exogenous(features) variable [X1, X2, X3, X4].\n",
    "    To calculate the VIF and Tolerance for each variable, we regress\n",
    "    each of them against other exogenous variables. For instance, the\n",
    "    regression model for X3 is defined as:\n",
    "                        X3 ~ X1 + X2 + X4\n",
    "    And then we extract the R-squared from the model to calculate:\n",
    "                    VIF = 1 / (1 - R-squared)\n",
    "                    Tolerance = 1 - R-squared\n",
    "    The cutoff to detect multicollinearity:\n",
    "                    VIF > 10 or Tolerance < 0.1\n",
    "    '''\n",
    "    vif={}\n",
    "    for f in features:\n",
    "        x = df.drop(f,axis=1)\n",
    "        y = df[f]\n",
    "        model_i = LinearRegression().fit(x,y)\n",
    "        r2 = model_i.score(x,y)\n",
    "        vif[f]=1/(1-r2)\n",
    "    return vif"
   ]
  },
  {
   "cell_type": "code",
   "execution_count": 33,
   "id": "16dabfcb",
   "metadata": {
    "ExecuteTime": {
     "end_time": "2022-04-09T20:37:57.996770Z",
     "start_time": "2022-04-09T20:37:57.913001Z"
    }
   },
   "outputs": [
    {
     "data": {
      "text/plain": [
       "haemoglobin               5.708914\n",
       "packed_cell_volume        5.462380\n",
       "red_blood_cell_count      2.964857\n",
       "serum_creatinine          2.386813\n",
       "blood_urea                2.207721\n",
       "sodium                    1.971927\n",
       "blood_glucose_random      1.923232\n",
       "sugar                     1.888911\n",
       "specific_gravity          1.875649\n",
       "albumin                   1.842837\n",
       "potassium                 1.236124\n",
       "blood_pressure            1.138054\n",
       "white_blood_cell_count    1.130427\n",
       "age                       1.111609\n",
       "dtype: float64"
      ]
     },
     "execution_count": 33,
     "metadata": {},
     "output_type": "execute_result"
    }
   ],
   "source": [
    "pd.Series( sklearn_vif(df_n.columns,df_n)).sort_values(ascending=False)"
   ]
  },
  {
   "cell_type": "markdown",
   "id": "7c169dfc",
   "metadata": {},
   "source": [
    "By default the threshold for VIF is considered as 5.\n",
    "Let's remove 'packed_cell_volume'"
   ]
  },
  {
   "cell_type": "code",
   "execution_count": 34,
   "id": "55bf868d",
   "metadata": {
    "ExecuteTime": {
     "end_time": "2022-04-09T20:37:58.016670Z",
     "start_time": "2022-04-09T20:37:57.999547Z"
    }
   },
   "outputs": [],
   "source": [
    "df_n2 = df_n.drop('packed_cell_volume',axis=1)"
   ]
  },
  {
   "cell_type": "code",
   "execution_count": 35,
   "id": "9a2a27a2",
   "metadata": {
    "ExecuteTime": {
     "end_time": "2022-04-09T20:37:58.142530Z",
     "start_time": "2022-04-09T20:37:58.049773Z"
    }
   },
   "outputs": [
    {
     "data": {
      "text/plain": [
       "haemoglobin               3.465580\n",
       "red_blood_cell_count      2.784319\n",
       "serum_creatinine          2.384181\n",
       "blood_urea                2.191799\n",
       "sodium                    1.961415\n",
       "blood_glucose_random      1.922979\n",
       "sugar                     1.887993\n",
       "specific_gravity          1.869344\n",
       "albumin                   1.838446\n",
       "potassium                 1.233370\n",
       "blood_pressure            1.125388\n",
       "white_blood_cell_count    1.122434\n",
       "age                       1.105879\n",
       "dtype: float64"
      ]
     },
     "execution_count": 35,
     "metadata": {},
     "output_type": "execute_result"
    }
   ],
   "source": [
    "pd.Series( sklearn_vif(df_n2.columns,df_n2)).sort_values(ascending=False)"
   ]
  },
  {
   "cell_type": "markdown",
   "id": "99c17e2d",
   "metadata": {},
   "source": [
    "Now all the VIF values are less than 5"
   ]
  },
  {
   "cell_type": "code",
   "execution_count": 36,
   "id": "d807a400",
   "metadata": {
    "ExecuteTime": {
     "end_time": "2022-04-09T20:37:58.153703Z",
     "start_time": "2022-04-09T20:37:58.146353Z"
    }
   },
   "outputs": [
    {
     "data": {
      "text/plain": [
       "Index(['age', 'blood_pressure', 'specific_gravity', 'albumin', 'sugar',\n",
       "       'red_blood_cells', 'pus_cell', 'pus_cell_clumps', 'bacteria',\n",
       "       'blood_glucose_random', 'blood_urea', 'serum_creatinine', 'sodium',\n",
       "       'potassium', 'haemoglobin', 'white_blood_cell_count',\n",
       "       'red_blood_cell_count', 'hypertension', 'diabetes_mellitus',\n",
       "       'coronary_artery_disease', 'appetite', 'pedal_edema', 'anemia',\n",
       "       'classification'],\n",
       "      dtype='object')"
      ]
     },
     "execution_count": 36,
     "metadata": {},
     "output_type": "execute_result"
    }
   ],
   "source": [
    "df_org_1 = df_org.drop('packed_cell_volume',axis=1)\n",
    "df_org_1.columns"
   ]
  },
  {
   "cell_type": "code",
   "execution_count": 37,
   "id": "87a03086",
   "metadata": {
    "ExecuteTime": {
     "end_time": "2022-04-09T20:37:58.160083Z",
     "start_time": "2022-04-09T20:37:58.156610Z"
    }
   },
   "outputs": [],
   "source": [
    "# numeric_columns.remove('packed_cell_volume')\n",
    "numeric_columns_1 = numeric_columns.copy()\n",
    "numeric_columns_1.remove('packed_cell_volume')"
   ]
  },
  {
   "cell_type": "markdown",
   "id": "3704846d",
   "metadata": {},
   "source": [
    "## Encoding "
   ]
  },
  {
   "cell_type": "code",
   "execution_count": 38,
   "id": "191eaf53",
   "metadata": {
    "ExecuteTime": {
     "end_time": "2022-04-09T20:37:58.171424Z",
     "start_time": "2022-04-09T20:37:58.163357Z"
    }
   },
   "outputs": [
    {
     "name": "stdout",
     "output_type": "stream",
     "text": [
      "red_blood_cells has unique values 2\n",
      "pus_cell has unique values 2\n",
      "pus_cell_clumps has unique values 2\n",
      "bacteria has unique values 2\n",
      "hypertension has unique values 2\n",
      "diabetes_mellitus has unique values 2\n",
      "coronary_artery_disease has unique values 2\n",
      "appetite has unique values 2\n",
      "pedal_edema has unique values 2\n",
      "anemia has unique values 2\n"
     ]
    }
   ],
   "source": [
    "for c in categorical_columns:\n",
    "    print(f\"{c} has unique values {df_org_1[c].nunique()}\")"
   ]
  },
  {
   "cell_type": "markdown",
   "id": "85dedc09",
   "metadata": {},
   "source": [
    "All the categorical values have two values. Hence I can use labelencoder."
   ]
  },
  {
   "cell_type": "code",
   "execution_count": 39,
   "id": "d8449059",
   "metadata": {
    "ExecuteTime": {
     "end_time": "2022-04-09T20:37:58.177101Z",
     "start_time": "2022-04-09T20:37:58.173990Z"
    }
   },
   "outputs": [],
   "source": [
    "from sklearn.preprocessing import LabelEncoder"
   ]
  },
  {
   "cell_type": "code",
   "execution_count": 40,
   "id": "11f23bc7",
   "metadata": {
    "ExecuteTime": {
     "end_time": "2022-04-09T20:37:58.192096Z",
     "start_time": "2022-04-09T20:37:58.180373Z"
    }
   },
   "outputs": [],
   "source": [
    "le_dict = {}\n",
    "for c in categorical_columns:\n",
    "    enc = LabelEncoder()\n",
    "    enc.fit(df_org_1[c])\n",
    "    le_dict[c] = enc\n",
    "    df_org_1[c] = enc.transform(df_org_1[c])"
   ]
  },
  {
   "cell_type": "code",
   "execution_count": 41,
   "id": "2cdf9b92",
   "metadata": {
    "ExecuteTime": {
     "end_time": "2022-04-09T20:37:58.220829Z",
     "start_time": "2022-04-09T20:37:58.196191Z"
    }
   },
   "outputs": [
    {
     "data": {
      "text/html": [
       "<div>\n",
       "<style scoped>\n",
       "    .dataframe tbody tr th:only-of-type {\n",
       "        vertical-align: middle;\n",
       "    }\n",
       "\n",
       "    .dataframe tbody tr th {\n",
       "        vertical-align: top;\n",
       "    }\n",
       "\n",
       "    .dataframe thead th {\n",
       "        text-align: right;\n",
       "    }\n",
       "</style>\n",
       "<table border=\"1\" class=\"dataframe\">\n",
       "  <thead>\n",
       "    <tr style=\"text-align: right;\">\n",
       "      <th></th>\n",
       "      <th>age</th>\n",
       "      <th>blood_pressure</th>\n",
       "      <th>specific_gravity</th>\n",
       "      <th>albumin</th>\n",
       "      <th>sugar</th>\n",
       "      <th>red_blood_cells</th>\n",
       "      <th>pus_cell</th>\n",
       "      <th>pus_cell_clumps</th>\n",
       "      <th>bacteria</th>\n",
       "      <th>blood_glucose_random</th>\n",
       "      <th>...</th>\n",
       "      <th>haemoglobin</th>\n",
       "      <th>white_blood_cell_count</th>\n",
       "      <th>red_blood_cell_count</th>\n",
       "      <th>hypertension</th>\n",
       "      <th>diabetes_mellitus</th>\n",
       "      <th>coronary_artery_disease</th>\n",
       "      <th>appetite</th>\n",
       "      <th>pedal_edema</th>\n",
       "      <th>anemia</th>\n",
       "      <th>classification</th>\n",
       "    </tr>\n",
       "  </thead>\n",
       "  <tbody>\n",
       "    <tr>\n",
       "      <th>0</th>\n",
       "      <td>48.0</td>\n",
       "      <td>80.0</td>\n",
       "      <td>1.020</td>\n",
       "      <td>1.0</td>\n",
       "      <td>0.0</td>\n",
       "      <td>1</td>\n",
       "      <td>1</td>\n",
       "      <td>0</td>\n",
       "      <td>0</td>\n",
       "      <td>121.000000</td>\n",
       "      <td>...</td>\n",
       "      <td>15.4</td>\n",
       "      <td>7800.0</td>\n",
       "      <td>5.200000</td>\n",
       "      <td>1</td>\n",
       "      <td>1</td>\n",
       "      <td>0</td>\n",
       "      <td>0</td>\n",
       "      <td>0</td>\n",
       "      <td>0</td>\n",
       "      <td>1</td>\n",
       "    </tr>\n",
       "    <tr>\n",
       "      <th>1</th>\n",
       "      <td>7.0</td>\n",
       "      <td>50.0</td>\n",
       "      <td>1.020</td>\n",
       "      <td>4.0</td>\n",
       "      <td>0.0</td>\n",
       "      <td>1</td>\n",
       "      <td>1</td>\n",
       "      <td>0</td>\n",
       "      <td>0</td>\n",
       "      <td>175.419811</td>\n",
       "      <td>...</td>\n",
       "      <td>11.3</td>\n",
       "      <td>6000.0</td>\n",
       "      <td>3.945238</td>\n",
       "      <td>0</td>\n",
       "      <td>0</td>\n",
       "      <td>0</td>\n",
       "      <td>0</td>\n",
       "      <td>0</td>\n",
       "      <td>0</td>\n",
       "      <td>1</td>\n",
       "    </tr>\n",
       "    <tr>\n",
       "      <th>2</th>\n",
       "      <td>62.0</td>\n",
       "      <td>80.0</td>\n",
       "      <td>1.010</td>\n",
       "      <td>2.0</td>\n",
       "      <td>3.0</td>\n",
       "      <td>1</td>\n",
       "      <td>1</td>\n",
       "      <td>0</td>\n",
       "      <td>0</td>\n",
       "      <td>423.000000</td>\n",
       "      <td>...</td>\n",
       "      <td>9.6</td>\n",
       "      <td>7500.0</td>\n",
       "      <td>3.945238</td>\n",
       "      <td>0</td>\n",
       "      <td>1</td>\n",
       "      <td>0</td>\n",
       "      <td>1</td>\n",
       "      <td>0</td>\n",
       "      <td>1</td>\n",
       "      <td>1</td>\n",
       "    </tr>\n",
       "    <tr>\n",
       "      <th>3</th>\n",
       "      <td>48.0</td>\n",
       "      <td>70.0</td>\n",
       "      <td>1.005</td>\n",
       "      <td>4.0</td>\n",
       "      <td>0.0</td>\n",
       "      <td>1</td>\n",
       "      <td>0</td>\n",
       "      <td>1</td>\n",
       "      <td>0</td>\n",
       "      <td>117.000000</td>\n",
       "      <td>...</td>\n",
       "      <td>11.2</td>\n",
       "      <td>6700.0</td>\n",
       "      <td>3.900000</td>\n",
       "      <td>1</td>\n",
       "      <td>0</td>\n",
       "      <td>0</td>\n",
       "      <td>1</td>\n",
       "      <td>1</td>\n",
       "      <td>1</td>\n",
       "      <td>1</td>\n",
       "    </tr>\n",
       "    <tr>\n",
       "      <th>4</th>\n",
       "      <td>51.0</td>\n",
       "      <td>80.0</td>\n",
       "      <td>1.010</td>\n",
       "      <td>2.0</td>\n",
       "      <td>0.0</td>\n",
       "      <td>1</td>\n",
       "      <td>1</td>\n",
       "      <td>0</td>\n",
       "      <td>0</td>\n",
       "      <td>106.000000</td>\n",
       "      <td>...</td>\n",
       "      <td>11.6</td>\n",
       "      <td>7300.0</td>\n",
       "      <td>4.600000</td>\n",
       "      <td>0</td>\n",
       "      <td>0</td>\n",
       "      <td>0</td>\n",
       "      <td>0</td>\n",
       "      <td>0</td>\n",
       "      <td>0</td>\n",
       "      <td>1</td>\n",
       "    </tr>\n",
       "  </tbody>\n",
       "</table>\n",
       "<p>5 rows × 24 columns</p>\n",
       "</div>"
      ],
      "text/plain": [
       "    age  blood_pressure  specific_gravity  albumin  sugar  red_blood_cells  \\\n",
       "0  48.0            80.0             1.020      1.0    0.0                1   \n",
       "1   7.0            50.0             1.020      4.0    0.0                1   \n",
       "2  62.0            80.0             1.010      2.0    3.0                1   \n",
       "3  48.0            70.0             1.005      4.0    0.0                1   \n",
       "4  51.0            80.0             1.010      2.0    0.0                1   \n",
       "\n",
       "   pus_cell  pus_cell_clumps  bacteria  blood_glucose_random  ...  \\\n",
       "0         1                0         0            121.000000  ...   \n",
       "1         1                0         0            175.419811  ...   \n",
       "2         1                0         0            423.000000  ...   \n",
       "3         0                1         0            117.000000  ...   \n",
       "4         1                0         0            106.000000  ...   \n",
       "\n",
       "   haemoglobin  white_blood_cell_count  red_blood_cell_count  hypertension  \\\n",
       "0         15.4                  7800.0              5.200000             1   \n",
       "1         11.3                  6000.0              3.945238             0   \n",
       "2          9.6                  7500.0              3.945238             0   \n",
       "3         11.2                  6700.0              3.900000             1   \n",
       "4         11.6                  7300.0              4.600000             0   \n",
       "\n",
       "   diabetes_mellitus  coronary_artery_disease  appetite  pedal_edema  anemia  \\\n",
       "0                  1                        0         0            0       0   \n",
       "1                  0                        0         0            0       0   \n",
       "2                  1                        0         1            0       1   \n",
       "3                  0                        0         1            1       1   \n",
       "4                  0                        0         0            0       0   \n",
       "\n",
       "   classification  \n",
       "0               1  \n",
       "1               1  \n",
       "2               1  \n",
       "3               1  \n",
       "4               1  \n",
       "\n",
       "[5 rows x 24 columns]"
      ]
     },
     "execution_count": 41,
     "metadata": {},
     "output_type": "execute_result"
    }
   ],
   "source": [
    "df_org_1.head()"
   ]
  },
  {
   "cell_type": "markdown",
   "id": "87d65eb7",
   "metadata": {},
   "source": [
    "# model creation"
   ]
  },
  {
   "cell_type": "code",
   "execution_count": 42,
   "id": "b87ca0d2",
   "metadata": {
    "ExecuteTime": {
     "end_time": "2022-04-09T20:37:59.686150Z",
     "start_time": "2022-04-09T20:37:58.223260Z"
    }
   },
   "outputs": [],
   "source": [
    "from sklearn.model_selection import train_test_split,GridSearchCV,cross_val_score\n",
    "from sklearn.metrics import confusion_matrix, accuracy_score, classification_report\n",
    "\n",
    "from sklearn.linear_model import LogisticRegression\n",
    "from sklearn.neighbors import KNeighborsClassifier\n",
    "from sklearn.svm import SVC\n",
    "from sklearn.tree import DecisionTreeClassifier\n",
    "from sklearn.ensemble import RandomForestClassifier\n",
    "from sklearn.ensemble import GradientBoostingClassifier\n",
    "from lightgbm import LGBMClassifier\n",
    "from sklearn.model_selection import KFold\n",
    "from sklearn.neural_network import MLPClassifier"
   ]
  },
  {
   "cell_type": "code",
   "execution_count": 43,
   "id": "dcd6d947",
   "metadata": {
    "ExecuteTime": {
     "end_time": "2022-04-09T20:37:59.697850Z",
     "start_time": "2022-04-09T20:37:59.688631Z"
    }
   },
   "outputs": [],
   "source": [
    "x = df_org_1.drop('classification',axis=1)\n",
    "y = df_org_1['classification']\n",
    "\n",
    "x_train,x_test,y_train,y_test = train_test_split(x,y,test_size=0.3,random_state=1234)"
   ]
  },
  {
   "cell_type": "markdown",
   "id": "5b9b251b",
   "metadata": {},
   "source": [
    "## models without scaling"
   ]
  },
  {
   "cell_type": "code",
   "execution_count": 44,
   "id": "15b49b1d",
   "metadata": {
    "ExecuteTime": {
     "end_time": "2022-04-09T20:37:59.719437Z",
     "start_time": "2022-04-09T20:37:59.701294Z"
    }
   },
   "outputs": [
    {
     "data": {
      "text/plain": [
       "[('LR',\n",
       "  LogisticRegression(max_iter=1000, random_state=1234, solver='liblinear')),\n",
       " ('KNN', KNeighborsClassifier()),\n",
       " ('CART', DecisionTreeClassifier(random_state=1234)),\n",
       " ('RF', RandomForestClassifier(random_state=1234)),\n",
       " ('SVM', SVC(gamma='auto', random_state=1234)),\n",
       " ('XGB', GradientBoostingClassifier(random_state=1234)),\n",
       " ('LightGBM', LGBMClassifier(random_state=1234))]"
      ]
     },
     "execution_count": 44,
     "metadata": {},
     "output_type": "execute_result"
    }
   ],
   "source": [
    "models = []\n",
    "random_state = 1234\n",
    "models.append(('LR', LogisticRegression(random_state = random_state,solver='liblinear',max_iter=1000)))\n",
    "models.append(('KNN', KNeighborsClassifier()))\n",
    "models.append(('CART', DecisionTreeClassifier(random_state = random_state)))\n",
    "models.append(('RF', RandomForestClassifier(random_state = random_state)))\n",
    "models.append(('SVM', SVC(gamma='auto', random_state = random_state)))\n",
    "models.append(('XGB', GradientBoostingClassifier(random_state = random_state)))\n",
    "models.append((\"LightGBM\", LGBMClassifier(random_state = random_state)))\n",
    "\n",
    "models"
   ]
  },
  {
   "cell_type": "code",
   "execution_count": 45,
   "id": "0f03429c",
   "metadata": {
    "ExecuteTime": {
     "end_time": "2022-04-09T20:38:03.479566Z",
     "start_time": "2022-04-09T20:37:59.723119Z"
    }
   },
   "outputs": [
    {
     "name": "stdout",
     "output_type": "stream",
     "text": [
      "name : LR\n",
      "model : LogisticRegression(max_iter=1000, random_state=1234, solver='liblinear')\n",
      "[0.96428571 0.96428571 1.         1.         1.         0.96428571\n",
      " 1.         1.         1.         1.        ] \n",
      "\n",
      "LR: 0.989286 (0.016366)\n",
      "Training accuracy score : 0.9928571428571429\n",
      "test accuracy score :,0.9928571428571429\n",
      "name : KNN\n",
      "model : KNeighborsClassifier()\n",
      "[0.71428571 0.67857143 0.64285714 0.64285714 0.64285714 0.85714286\n",
      " 0.67857143 0.78571429 0.67857143 0.75      ] \n",
      "\n",
      "KNN: 0.707143 (0.067386)\n",
      "Training accuracy score : 0.8357142857142857\n",
      "test accuracy score :,0.8357142857142857\n",
      "name : CART\n",
      "model : DecisionTreeClassifier(random_state=1234)\n",
      "[0.96428571 0.96428571 1.         1.         1.         1.\n",
      " 1.         1.         0.96428571 1.        ] \n",
      "\n",
      "CART: 0.989286 (0.016366)\n",
      "Training accuracy score : 1.0\n",
      "test accuracy score :,1.0\n",
      "name : RF\n",
      "model : RandomForestClassifier(random_state=1234)\n",
      "[1. 1. 1. 1. 1. 1. 1. 1. 1. 1.] \n",
      "\n",
      "RF: 1.000000 (0.000000)\n",
      "Training accuracy score : 1.0\n",
      "test accuracy score :,1.0\n",
      "name : SVM\n",
      "model : SVC(gamma='auto', random_state=1234)\n",
      "[0.64285714 0.60714286 0.60714286 0.60714286 0.60714286 0.60714286\n",
      " 0.60714286 0.60714286 0.60714286 0.60714286] \n",
      "\n",
      "SVM: 0.610714 (0.010714)\n",
      "Training accuracy score : 1.0\n",
      "test accuracy score :,1.0\n",
      "name : XGB\n",
      "model : GradientBoostingClassifier(random_state=1234)\n",
      "[0.96428571 0.96428571 1.         1.         1.         1.\n",
      " 1.         1.         0.96428571 1.        ] \n",
      "\n",
      "XGB: 0.989286 (0.016366)\n",
      "Training accuracy score : 1.0\n",
      "test accuracy score :,1.0\n",
      "name : LightGBM\n",
      "model : LGBMClassifier(random_state=1234)\n",
      "[0.96428571 1.         1.         1.         1.         1.\n",
      " 1.         1.         1.         1.        ] \n",
      "\n",
      "LightGBM: 0.996429 (0.010714)\n",
      "Training accuracy score : 1.0\n",
      "test accuracy score :,1.0\n"
     ]
    }
   ],
   "source": [
    "cross_validation_results = []\n",
    "names   = []\n",
    "\n",
    "training_score_list = []\n",
    "testing_score_list  =[]\n",
    "\n",
    "for name, model in models:\n",
    "    print(\"name :\",name)\n",
    "    print(\"model :\",model)        \n",
    "    cv_results = cross_val_score(model, x_train, y_train, cv = 10, scoring= \"accuracy\")\n",
    "    print(cv_results,\"\\n\")\n",
    "    cross_validation_results.append(cv_results)\n",
    "    names.append(name)\n",
    "    msg = \"%s: %f (%f)\" % (name, cv_results.mean(), cv_results.std())\n",
    "    print(msg)\n",
    "    model.fit(x_train,y_train)\n",
    "    train_score = accuracy_score(y_train,model.predict(x_train))\n",
    "    test_score  = accuracy_score(y_test,model.predict(x_test))\n",
    "    print(f\"Training accuracy score : {train_score}\")\n",
    "    print(f\"test accuracy score :,{train_score}\")\n",
    "    training_score_list.append(train_score)\n",
    "    testing_score_list.append(test_score)\n",
    "#     training_score.append()"
   ]
  },
  {
   "cell_type": "code",
   "execution_count": 46,
   "id": "e5c715c0",
   "metadata": {
    "ExecuteTime": {
     "end_time": "2022-04-09T20:38:03.500069Z",
     "start_time": "2022-04-09T20:38:03.482991Z"
    }
   },
   "outputs": [
    {
     "data": {
      "text/html": [
       "<div>\n",
       "<style scoped>\n",
       "    .dataframe tbody tr th:only-of-type {\n",
       "        vertical-align: middle;\n",
       "    }\n",
       "\n",
       "    .dataframe tbody tr th {\n",
       "        vertical-align: top;\n",
       "    }\n",
       "\n",
       "    .dataframe thead th {\n",
       "        text-align: right;\n",
       "    }\n",
       "</style>\n",
       "<table border=\"1\" class=\"dataframe\">\n",
       "  <thead>\n",
       "    <tr style=\"text-align: right;\">\n",
       "      <th></th>\n",
       "      <th>train_scores</th>\n",
       "      <th>validation_scores</th>\n",
       "      <th>test_scores</th>\n",
       "      <th>models</th>\n",
       "    </tr>\n",
       "  </thead>\n",
       "  <tbody>\n",
       "    <tr>\n",
       "      <th>0</th>\n",
       "      <td>0.992857</td>\n",
       "      <td>0.989286</td>\n",
       "      <td>0.991667</td>\n",
       "      <td>LR</td>\n",
       "    </tr>\n",
       "    <tr>\n",
       "      <th>1</th>\n",
       "      <td>0.835714</td>\n",
       "      <td>0.707143</td>\n",
       "      <td>0.758333</td>\n",
       "      <td>KNN</td>\n",
       "    </tr>\n",
       "    <tr>\n",
       "      <th>2</th>\n",
       "      <td>1.000000</td>\n",
       "      <td>0.989286</td>\n",
       "      <td>1.000000</td>\n",
       "      <td>CART</td>\n",
       "    </tr>\n",
       "    <tr>\n",
       "      <th>3</th>\n",
       "      <td>1.000000</td>\n",
       "      <td>1.000000</td>\n",
       "      <td>1.000000</td>\n",
       "      <td>RF</td>\n",
       "    </tr>\n",
       "    <tr>\n",
       "      <th>4</th>\n",
       "      <td>1.000000</td>\n",
       "      <td>0.610714</td>\n",
       "      <td>0.658333</td>\n",
       "      <td>SVM</td>\n",
       "    </tr>\n",
       "    <tr>\n",
       "      <th>5</th>\n",
       "      <td>1.000000</td>\n",
       "      <td>0.989286</td>\n",
       "      <td>1.000000</td>\n",
       "      <td>XGB</td>\n",
       "    </tr>\n",
       "    <tr>\n",
       "      <th>6</th>\n",
       "      <td>1.000000</td>\n",
       "      <td>0.996429</td>\n",
       "      <td>0.991667</td>\n",
       "      <td>LightGBM</td>\n",
       "    </tr>\n",
       "  </tbody>\n",
       "</table>\n",
       "</div>"
      ],
      "text/plain": [
       "   train_scores  validation_scores  test_scores    models\n",
       "0      0.992857           0.989286     0.991667        LR\n",
       "1      0.835714           0.707143     0.758333       KNN\n",
       "2      1.000000           0.989286     1.000000      CART\n",
       "3      1.000000           1.000000     1.000000        RF\n",
       "4      1.000000           0.610714     0.658333       SVM\n",
       "5      1.000000           0.989286     1.000000       XGB\n",
       "6      1.000000           0.996429     0.991667  LightGBM"
      ]
     },
     "execution_count": 46,
     "metadata": {},
     "output_type": "execute_result"
    }
   ],
   "source": [
    "results_df = pd.DataFrame({\"train_scores\":training_score_list,\n",
    "                           \n",
    "                           'validation_scores':np.array(\n",
    "                               cross_validation_results).mean(axis=1),\n",
    "                           \"test_scores\":testing_score_list,\n",
    "                           'models':names\n",
    "                          },)\n",
    "results_df"
   ]
  },
  {
   "cell_type": "code",
   "execution_count": 47,
   "id": "380793a6",
   "metadata": {
    "ExecuteTime": {
     "end_time": "2022-04-09T20:38:03.524524Z",
     "start_time": "2022-04-09T20:38:03.503655Z"
    }
   },
   "outputs": [
    {
     "data": {
      "text/html": [
       "<div>\n",
       "<style scoped>\n",
       "    .dataframe tbody tr th:only-of-type {\n",
       "        vertical-align: middle;\n",
       "    }\n",
       "\n",
       "    .dataframe tbody tr th {\n",
       "        vertical-align: top;\n",
       "    }\n",
       "\n",
       "    .dataframe thead th {\n",
       "        text-align: right;\n",
       "    }\n",
       "</style>\n",
       "<table border=\"1\" class=\"dataframe\">\n",
       "  <thead>\n",
       "    <tr style=\"text-align: right;\">\n",
       "      <th></th>\n",
       "      <th>models</th>\n",
       "      <th>variable</th>\n",
       "      <th>value</th>\n",
       "    </tr>\n",
       "  </thead>\n",
       "  <tbody>\n",
       "    <tr>\n",
       "      <th>0</th>\n",
       "      <td>LR</td>\n",
       "      <td>train_scores</td>\n",
       "      <td>0.992857</td>\n",
       "    </tr>\n",
       "    <tr>\n",
       "      <th>1</th>\n",
       "      <td>KNN</td>\n",
       "      <td>train_scores</td>\n",
       "      <td>0.835714</td>\n",
       "    </tr>\n",
       "    <tr>\n",
       "      <th>2</th>\n",
       "      <td>CART</td>\n",
       "      <td>train_scores</td>\n",
       "      <td>1.000000</td>\n",
       "    </tr>\n",
       "    <tr>\n",
       "      <th>3</th>\n",
       "      <td>RF</td>\n",
       "      <td>train_scores</td>\n",
       "      <td>1.000000</td>\n",
       "    </tr>\n",
       "    <tr>\n",
       "      <th>4</th>\n",
       "      <td>SVM</td>\n",
       "      <td>train_scores</td>\n",
       "      <td>1.000000</td>\n",
       "    </tr>\n",
       "    <tr>\n",
       "      <th>5</th>\n",
       "      <td>XGB</td>\n",
       "      <td>train_scores</td>\n",
       "      <td>1.000000</td>\n",
       "    </tr>\n",
       "    <tr>\n",
       "      <th>6</th>\n",
       "      <td>LightGBM</td>\n",
       "      <td>train_scores</td>\n",
       "      <td>1.000000</td>\n",
       "    </tr>\n",
       "    <tr>\n",
       "      <th>7</th>\n",
       "      <td>LR</td>\n",
       "      <td>validation_scores</td>\n",
       "      <td>0.989286</td>\n",
       "    </tr>\n",
       "    <tr>\n",
       "      <th>8</th>\n",
       "      <td>KNN</td>\n",
       "      <td>validation_scores</td>\n",
       "      <td>0.707143</td>\n",
       "    </tr>\n",
       "    <tr>\n",
       "      <th>9</th>\n",
       "      <td>CART</td>\n",
       "      <td>validation_scores</td>\n",
       "      <td>0.989286</td>\n",
       "    </tr>\n",
       "    <tr>\n",
       "      <th>10</th>\n",
       "      <td>RF</td>\n",
       "      <td>validation_scores</td>\n",
       "      <td>1.000000</td>\n",
       "    </tr>\n",
       "    <tr>\n",
       "      <th>11</th>\n",
       "      <td>SVM</td>\n",
       "      <td>validation_scores</td>\n",
       "      <td>0.610714</td>\n",
       "    </tr>\n",
       "    <tr>\n",
       "      <th>12</th>\n",
       "      <td>XGB</td>\n",
       "      <td>validation_scores</td>\n",
       "      <td>0.989286</td>\n",
       "    </tr>\n",
       "    <tr>\n",
       "      <th>13</th>\n",
       "      <td>LightGBM</td>\n",
       "      <td>validation_scores</td>\n",
       "      <td>0.996429</td>\n",
       "    </tr>\n",
       "    <tr>\n",
       "      <th>14</th>\n",
       "      <td>LR</td>\n",
       "      <td>test_scores</td>\n",
       "      <td>0.991667</td>\n",
       "    </tr>\n",
       "    <tr>\n",
       "      <th>15</th>\n",
       "      <td>KNN</td>\n",
       "      <td>test_scores</td>\n",
       "      <td>0.758333</td>\n",
       "    </tr>\n",
       "    <tr>\n",
       "      <th>16</th>\n",
       "      <td>CART</td>\n",
       "      <td>test_scores</td>\n",
       "      <td>1.000000</td>\n",
       "    </tr>\n",
       "    <tr>\n",
       "      <th>17</th>\n",
       "      <td>RF</td>\n",
       "      <td>test_scores</td>\n",
       "      <td>1.000000</td>\n",
       "    </tr>\n",
       "    <tr>\n",
       "      <th>18</th>\n",
       "      <td>SVM</td>\n",
       "      <td>test_scores</td>\n",
       "      <td>0.658333</td>\n",
       "    </tr>\n",
       "    <tr>\n",
       "      <th>19</th>\n",
       "      <td>XGB</td>\n",
       "      <td>test_scores</td>\n",
       "      <td>1.000000</td>\n",
       "    </tr>\n",
       "    <tr>\n",
       "      <th>20</th>\n",
       "      <td>LightGBM</td>\n",
       "      <td>test_scores</td>\n",
       "      <td>0.991667</td>\n",
       "    </tr>\n",
       "  </tbody>\n",
       "</table>\n",
       "</div>"
      ],
      "text/plain": [
       "      models           variable     value\n",
       "0         LR       train_scores  0.992857\n",
       "1        KNN       train_scores  0.835714\n",
       "2       CART       train_scores  1.000000\n",
       "3         RF       train_scores  1.000000\n",
       "4        SVM       train_scores  1.000000\n",
       "5        XGB       train_scores  1.000000\n",
       "6   LightGBM       train_scores  1.000000\n",
       "7         LR  validation_scores  0.989286\n",
       "8        KNN  validation_scores  0.707143\n",
       "9       CART  validation_scores  0.989286\n",
       "10        RF  validation_scores  1.000000\n",
       "11       SVM  validation_scores  0.610714\n",
       "12       XGB  validation_scores  0.989286\n",
       "13  LightGBM  validation_scores  0.996429\n",
       "14        LR        test_scores  0.991667\n",
       "15       KNN        test_scores  0.758333\n",
       "16      CART        test_scores  1.000000\n",
       "17        RF        test_scores  1.000000\n",
       "18       SVM        test_scores  0.658333\n",
       "19       XGB        test_scores  1.000000\n",
       "20  LightGBM        test_scores  0.991667"
      ]
     },
     "execution_count": 47,
     "metadata": {},
     "output_type": "execute_result"
    }
   ],
   "source": [
    "results_df_melt = results_df.melt(id_vars='models')\n",
    "results_df_melt"
   ]
  },
  {
   "cell_type": "code",
   "execution_count": 48,
   "id": "b2149e65",
   "metadata": {
    "ExecuteTime": {
     "end_time": "2022-04-09T20:38:03.910483Z",
     "start_time": "2022-04-09T20:38:03.528146Z"
    }
   },
   "outputs": [
    {
     "data": {
      "image/png": "[encoded data removed]",
      "text/plain": [
       "<Figure size 1152x720 with 1 Axes>"
      ]
     },
     "metadata": {
      "needs_background": "light"
     },
     "output_type": "display_data"
    }
   ],
   "source": [
    "plt.rc('font',size=20)\n",
    "plt.figure(figsize=[16,10])\n",
    "plt.title( \"Score comparison before scaling\")\n",
    "sns.barplot(data=results_df_melt,y='models',x='value',hue='variable')\n",
    "plt.legend(bbox_to_anchor=(1.01, 1),loc='upper left')\n",
    "\n",
    "plt.tight_layout()\n",
    "# plt.savefig(\"images/model_score_without_scaling.png\",facecolor='white', transparent=False,dpi=150)"
   ]
  },
  {
   "cell_type": "markdown",
   "id": "326244a9",
   "metadata": {},
   "source": [
    "## model after scaling"
   ]
  },
  {
   "cell_type": "code",
   "execution_count": 49,
   "id": "c6f30b02",
   "metadata": {
    "ExecuteTime": {
     "end_time": "2022-04-09T20:38:03.917814Z",
     "start_time": "2022-04-09T20:38:03.913692Z"
    }
   },
   "outputs": [],
   "source": [
    "from sklearn.preprocessing import RobustScaler\n",
    "\n",
    "scaler = RobustScaler()"
   ]
  },
  {
   "cell_type": "code",
   "execution_count": 50,
   "id": "58c9556f",
   "metadata": {
    "ExecuteTime": {
     "end_time": "2022-04-09T20:38:03.949779Z",
     "start_time": "2022-04-09T20:38:03.921120Z"
    }
   },
   "outputs": [
    {
     "data": {
      "text/html": [
       "<div>\n",
       "<style scoped>\n",
       "    .dataframe tbody tr th:only-of-type {\n",
       "        vertical-align: middle;\n",
       "    }\n",
       "\n",
       "    .dataframe tbody tr th {\n",
       "        vertical-align: top;\n",
       "    }\n",
       "\n",
       "    .dataframe thead th {\n",
       "        text-align: right;\n",
       "    }\n",
       "</style>\n",
       "<table border=\"1\" class=\"dataframe\">\n",
       "  <thead>\n",
       "    <tr style=\"text-align: right;\">\n",
       "      <th></th>\n",
       "      <th>age</th>\n",
       "      <th>blood_pressure</th>\n",
       "      <th>specific_gravity</th>\n",
       "      <th>albumin</th>\n",
       "      <th>sugar</th>\n",
       "      <th>blood_glucose_random</th>\n",
       "      <th>blood_urea</th>\n",
       "      <th>serum_creatinine</th>\n",
       "      <th>sodium</th>\n",
       "      <th>potassium</th>\n",
       "      <th>haemoglobin</th>\n",
       "      <th>white_blood_cell_count</th>\n",
       "      <th>red_blood_cell_count</th>\n",
       "    </tr>\n",
       "  </thead>\n",
       "  <tbody>\n",
       "    <tr>\n",
       "      <th>0</th>\n",
       "      <td>48.0</td>\n",
       "      <td>80.0</td>\n",
       "      <td>1.020</td>\n",
       "      <td>1.0</td>\n",
       "      <td>0.0</td>\n",
       "      <td>121.000000</td>\n",
       "      <td>36.0</td>\n",
       "      <td>1.2</td>\n",
       "      <td>133.901786</td>\n",
       "      <td>4.878443</td>\n",
       "      <td>15.4</td>\n",
       "      <td>7800.0</td>\n",
       "      <td>5.200000</td>\n",
       "    </tr>\n",
       "    <tr>\n",
       "      <th>1</th>\n",
       "      <td>7.0</td>\n",
       "      <td>50.0</td>\n",
       "      <td>1.020</td>\n",
       "      <td>4.0</td>\n",
       "      <td>0.0</td>\n",
       "      <td>175.419811</td>\n",
       "      <td>18.0</td>\n",
       "      <td>0.8</td>\n",
       "      <td>133.901786</td>\n",
       "      <td>4.878443</td>\n",
       "      <td>11.3</td>\n",
       "      <td>6000.0</td>\n",
       "      <td>3.945238</td>\n",
       "    </tr>\n",
       "    <tr>\n",
       "      <th>2</th>\n",
       "      <td>62.0</td>\n",
       "      <td>80.0</td>\n",
       "      <td>1.010</td>\n",
       "      <td>2.0</td>\n",
       "      <td>3.0</td>\n",
       "      <td>423.000000</td>\n",
       "      <td>53.0</td>\n",
       "      <td>1.8</td>\n",
       "      <td>133.901786</td>\n",
       "      <td>4.878443</td>\n",
       "      <td>9.6</td>\n",
       "      <td>7500.0</td>\n",
       "      <td>3.945238</td>\n",
       "    </tr>\n",
       "    <tr>\n",
       "      <th>3</th>\n",
       "      <td>48.0</td>\n",
       "      <td>70.0</td>\n",
       "      <td>1.005</td>\n",
       "      <td>4.0</td>\n",
       "      <td>0.0</td>\n",
       "      <td>117.000000</td>\n",
       "      <td>56.0</td>\n",
       "      <td>3.8</td>\n",
       "      <td>111.000000</td>\n",
       "      <td>2.500000</td>\n",
       "      <td>11.2</td>\n",
       "      <td>6700.0</td>\n",
       "      <td>3.900000</td>\n",
       "    </tr>\n",
       "    <tr>\n",
       "      <th>4</th>\n",
       "      <td>51.0</td>\n",
       "      <td>80.0</td>\n",
       "      <td>1.010</td>\n",
       "      <td>2.0</td>\n",
       "      <td>0.0</td>\n",
       "      <td>106.000000</td>\n",
       "      <td>26.0</td>\n",
       "      <td>1.4</td>\n",
       "      <td>133.901786</td>\n",
       "      <td>4.878443</td>\n",
       "      <td>11.6</td>\n",
       "      <td>7300.0</td>\n",
       "      <td>4.600000</td>\n",
       "    </tr>\n",
       "    <tr>\n",
       "      <th>...</th>\n",
       "      <td>...</td>\n",
       "      <td>...</td>\n",
       "      <td>...</td>\n",
       "      <td>...</td>\n",
       "      <td>...</td>\n",
       "      <td>...</td>\n",
       "      <td>...</td>\n",
       "      <td>...</td>\n",
       "      <td>...</td>\n",
       "      <td>...</td>\n",
       "      <td>...</td>\n",
       "      <td>...</td>\n",
       "      <td>...</td>\n",
       "    </tr>\n",
       "    <tr>\n",
       "      <th>395</th>\n",
       "      <td>55.0</td>\n",
       "      <td>80.0</td>\n",
       "      <td>1.020</td>\n",
       "      <td>0.0</td>\n",
       "      <td>0.0</td>\n",
       "      <td>140.000000</td>\n",
       "      <td>49.0</td>\n",
       "      <td>0.5</td>\n",
       "      <td>150.000000</td>\n",
       "      <td>4.900000</td>\n",
       "      <td>15.7</td>\n",
       "      <td>6700.0</td>\n",
       "      <td>4.900000</td>\n",
       "    </tr>\n",
       "    <tr>\n",
       "      <th>396</th>\n",
       "      <td>42.0</td>\n",
       "      <td>70.0</td>\n",
       "      <td>1.025</td>\n",
       "      <td>0.0</td>\n",
       "      <td>0.0</td>\n",
       "      <td>75.000000</td>\n",
       "      <td>31.0</td>\n",
       "      <td>1.2</td>\n",
       "      <td>141.000000</td>\n",
       "      <td>3.500000</td>\n",
       "      <td>16.5</td>\n",
       "      <td>7800.0</td>\n",
       "      <td>6.200000</td>\n",
       "    </tr>\n",
       "    <tr>\n",
       "      <th>397</th>\n",
       "      <td>12.0</td>\n",
       "      <td>80.0</td>\n",
       "      <td>1.020</td>\n",
       "      <td>0.0</td>\n",
       "      <td>0.0</td>\n",
       "      <td>100.000000</td>\n",
       "      <td>26.0</td>\n",
       "      <td>0.6</td>\n",
       "      <td>137.000000</td>\n",
       "      <td>4.400000</td>\n",
       "      <td>15.8</td>\n",
       "      <td>6600.0</td>\n",
       "      <td>5.400000</td>\n",
       "    </tr>\n",
       "    <tr>\n",
       "      <th>398</th>\n",
       "      <td>17.0</td>\n",
       "      <td>60.0</td>\n",
       "      <td>1.025</td>\n",
       "      <td>0.0</td>\n",
       "      <td>0.0</td>\n",
       "      <td>114.000000</td>\n",
       "      <td>50.0</td>\n",
       "      <td>1.0</td>\n",
       "      <td>135.000000</td>\n",
       "      <td>4.900000</td>\n",
       "      <td>14.2</td>\n",
       "      <td>7200.0</td>\n",
       "      <td>5.900000</td>\n",
       "    </tr>\n",
       "    <tr>\n",
       "      <th>399</th>\n",
       "      <td>58.0</td>\n",
       "      <td>80.0</td>\n",
       "      <td>1.025</td>\n",
       "      <td>0.0</td>\n",
       "      <td>0.0</td>\n",
       "      <td>131.000000</td>\n",
       "      <td>18.0</td>\n",
       "      <td>1.1</td>\n",
       "      <td>141.000000</td>\n",
       "      <td>3.500000</td>\n",
       "      <td>15.8</td>\n",
       "      <td>6800.0</td>\n",
       "      <td>6.100000</td>\n",
       "    </tr>\n",
       "  </tbody>\n",
       "</table>\n",
       "<p>400 rows × 13 columns</p>\n",
       "</div>"
      ],
      "text/plain": [
       "      age  blood_pressure  specific_gravity  albumin  sugar  \\\n",
       "0    48.0            80.0             1.020      1.0    0.0   \n",
       "1     7.0            50.0             1.020      4.0    0.0   \n",
       "2    62.0            80.0             1.010      2.0    3.0   \n",
       "3    48.0            70.0             1.005      4.0    0.0   \n",
       "4    51.0            80.0             1.010      2.0    0.0   \n",
       "..    ...             ...               ...      ...    ...   \n",
       "395  55.0            80.0             1.020      0.0    0.0   \n",
       "396  42.0            70.0             1.025      0.0    0.0   \n",
       "397  12.0            80.0             1.020      0.0    0.0   \n",
       "398  17.0            60.0             1.025      0.0    0.0   \n",
       "399  58.0            80.0             1.025      0.0    0.0   \n",
       "\n",
       "     blood_glucose_random  blood_urea  serum_creatinine      sodium  \\\n",
       "0              121.000000        36.0               1.2  133.901786   \n",
       "1              175.419811        18.0               0.8  133.901786   \n",
       "2              423.000000        53.0               1.8  133.901786   \n",
       "3              117.000000        56.0               3.8  111.000000   \n",
       "4              106.000000        26.0               1.4  133.901786   \n",
       "..                    ...         ...               ...         ...   \n",
       "395            140.000000        49.0               0.5  150.000000   \n",
       "396             75.000000        31.0               1.2  141.000000   \n",
       "397            100.000000        26.0               0.6  137.000000   \n",
       "398            114.000000        50.0               1.0  135.000000   \n",
       "399            131.000000        18.0               1.1  141.000000   \n",
       "\n",
       "     potassium  haemoglobin  white_blood_cell_count  red_blood_cell_count  \n",
       "0     4.878443         15.4                  7800.0              5.200000  \n",
       "1     4.878443         11.3                  6000.0              3.945238  \n",
       "2     4.878443          9.6                  7500.0              3.945238  \n",
       "3     2.500000         11.2                  6700.0              3.900000  \n",
       "4     4.878443         11.6                  7300.0              4.600000  \n",
       "..         ...          ...                     ...                   ...  \n",
       "395   4.900000         15.7                  6700.0              4.900000  \n",
       "396   3.500000         16.5                  7800.0              6.200000  \n",
       "397   4.400000         15.8                  6600.0              5.400000  \n",
       "398   4.900000         14.2                  7200.0              5.900000  \n",
       "399   3.500000         15.8                  6800.0              6.100000  \n",
       "\n",
       "[400 rows x 13 columns]"
      ]
     },
     "execution_count": 50,
     "metadata": {},
     "output_type": "execute_result"
    }
   ],
   "source": [
    "numeric_data = df_org_1[numeric_columns_1[:-1]]\n",
    "numeric_data"
   ]
  },
  {
   "cell_type": "code",
   "execution_count": 51,
   "id": "16820b62",
   "metadata": {
    "ExecuteTime": {
     "end_time": "2022-04-09T20:38:03.966986Z",
     "start_time": "2022-04-09T20:38:03.953181Z"
    }
   },
   "outputs": [
    {
     "data": {
      "text/plain": [
       "array([[-0.29733283,  0.01875   ,  0.82213439, ...,  0.79471137,\n",
       "        -0.52352017,  0.87666034],\n",
       "       [-2.1609692 , -2.98125   ,  0.82213439, ..., -0.1926573 ,\n",
       "        -1.26578822, -0.12333966],\n",
       "       [ 0.3390308 ,  0.01875   , -0.82213439, ..., -0.60205407,\n",
       "        -0.64723151, -0.12333966],\n",
       "       ...,\n",
       "       [-1.93369647,  0.01875   ,  0.82213439, ...,  0.89104002,\n",
       "        -1.01836554,  1.03605313],\n",
       "       [-1.70642374, -1.98125   ,  1.64426877, ...,  0.50572542,\n",
       "        -0.77094286,  1.4345351 ],\n",
       "       [ 0.15721262,  0.01875   ,  1.64426877, ...,  0.89104002,\n",
       "        -0.93589131,  1.59392789]])"
      ]
     },
     "execution_count": 51,
     "metadata": {},
     "output_type": "execute_result"
    }
   ],
   "source": [
    "scaled_features = scaler.fit_transform(numeric_data)\n",
    "scaled_features"
   ]
  },
  {
   "cell_type": "code",
   "execution_count": 52,
   "id": "6bfb6f56",
   "metadata": {
    "ExecuteTime": {
     "end_time": "2022-04-09T20:38:03.978103Z",
     "start_time": "2022-04-09T20:38:03.970878Z"
    }
   },
   "outputs": [],
   "source": [
    "df_org_1[numeric_data.columns] = scaled_features"
   ]
  },
  {
   "cell_type": "code",
   "execution_count": 53,
   "id": "236e2d6b",
   "metadata": {
    "ExecuteTime": {
     "end_time": "2022-04-09T20:38:04.006096Z",
     "start_time": "2022-04-09T20:38:03.981576Z"
    }
   },
   "outputs": [
    {
     "data": {
      "text/html": [
       "<div>\n",
       "<style scoped>\n",
       "    .dataframe tbody tr th:only-of-type {\n",
       "        vertical-align: middle;\n",
       "    }\n",
       "\n",
       "    .dataframe tbody tr th {\n",
       "        vertical-align: top;\n",
       "    }\n",
       "\n",
       "    .dataframe thead th {\n",
       "        text-align: right;\n",
       "    }\n",
       "</style>\n",
       "<table border=\"1\" class=\"dataframe\">\n",
       "  <thead>\n",
       "    <tr style=\"text-align: right;\">\n",
       "      <th></th>\n",
       "      <th>age</th>\n",
       "      <th>blood_pressure</th>\n",
       "      <th>specific_gravity</th>\n",
       "      <th>albumin</th>\n",
       "      <th>sugar</th>\n",
       "      <th>red_blood_cells</th>\n",
       "      <th>pus_cell</th>\n",
       "      <th>pus_cell_clumps</th>\n",
       "      <th>bacteria</th>\n",
       "      <th>blood_glucose_random</th>\n",
       "      <th>...</th>\n",
       "      <th>haemoglobin</th>\n",
       "      <th>white_blood_cell_count</th>\n",
       "      <th>red_blood_cell_count</th>\n",
       "      <th>hypertension</th>\n",
       "      <th>diabetes_mellitus</th>\n",
       "      <th>coronary_artery_disease</th>\n",
       "      <th>appetite</th>\n",
       "      <th>pedal_edema</th>\n",
       "      <th>anemia</th>\n",
       "      <th>classification</th>\n",
       "    </tr>\n",
       "  </thead>\n",
       "  <tbody>\n",
       "    <tr>\n",
       "      <th>0</th>\n",
       "      <td>-0.297333</td>\n",
       "      <td>0.01875</td>\n",
       "      <td>0.822134</td>\n",
       "      <td>0.5</td>\n",
       "      <td>0.000000</td>\n",
       "      <td>1</td>\n",
       "      <td>1</td>\n",
       "      <td>0</td>\n",
       "      <td>0</td>\n",
       "      <td>-0.040312</td>\n",
       "      <td>...</td>\n",
       "      <td>0.794711</td>\n",
       "      <td>-0.523520</td>\n",
       "      <td>0.876660</td>\n",
       "      <td>1</td>\n",
       "      <td>1</td>\n",
       "      <td>0</td>\n",
       "      <td>0</td>\n",
       "      <td>0</td>\n",
       "      <td>0</td>\n",
       "      <td>1</td>\n",
       "    </tr>\n",
       "    <tr>\n",
       "      <th>1</th>\n",
       "      <td>-2.160969</td>\n",
       "      <td>-2.98125</td>\n",
       "      <td>0.822134</td>\n",
       "      <td>2.0</td>\n",
       "      <td>0.000000</td>\n",
       "      <td>1</td>\n",
       "      <td>1</td>\n",
       "      <td>0</td>\n",
       "      <td>0</td>\n",
       "      <td>0.690943</td>\n",
       "      <td>...</td>\n",
       "      <td>-0.192657</td>\n",
       "      <td>-1.265788</td>\n",
       "      <td>-0.123340</td>\n",
       "      <td>0</td>\n",
       "      <td>0</td>\n",
       "      <td>0</td>\n",
       "      <td>0</td>\n",
       "      <td>0</td>\n",
       "      <td>0</td>\n",
       "      <td>1</td>\n",
       "    </tr>\n",
       "    <tr>\n",
       "      <th>2</th>\n",
       "      <td>0.339031</td>\n",
       "      <td>0.01875</td>\n",
       "      <td>-0.822134</td>\n",
       "      <td>1.0</td>\n",
       "      <td>3.911392</td>\n",
       "      <td>1</td>\n",
       "      <td>1</td>\n",
       "      <td>0</td>\n",
       "      <td>0</td>\n",
       "      <td>4.017747</td>\n",
       "      <td>...</td>\n",
       "      <td>-0.602054</td>\n",
       "      <td>-0.647232</td>\n",
       "      <td>-0.123340</td>\n",
       "      <td>0</td>\n",
       "      <td>1</td>\n",
       "      <td>0</td>\n",
       "      <td>1</td>\n",
       "      <td>0</td>\n",
       "      <td>1</td>\n",
       "      <td>1</td>\n",
       "    </tr>\n",
       "    <tr>\n",
       "      <th>3</th>\n",
       "      <td>-0.297333</td>\n",
       "      <td>-0.98125</td>\n",
       "      <td>-1.644269</td>\n",
       "      <td>2.0</td>\n",
       "      <td>0.000000</td>\n",
       "      <td>1</td>\n",
       "      <td>0</td>\n",
       "      <td>1</td>\n",
       "      <td>0</td>\n",
       "      <td>-0.094061</td>\n",
       "      <td>...</td>\n",
       "      <td>-0.216739</td>\n",
       "      <td>-0.977128</td>\n",
       "      <td>-0.159393</td>\n",
       "      <td>1</td>\n",
       "      <td>0</td>\n",
       "      <td>0</td>\n",
       "      <td>1</td>\n",
       "      <td>1</td>\n",
       "      <td>1</td>\n",
       "      <td>1</td>\n",
       "    </tr>\n",
       "    <tr>\n",
       "      <th>4</th>\n",
       "      <td>-0.160969</td>\n",
       "      <td>0.01875</td>\n",
       "      <td>-0.822134</td>\n",
       "      <td>1.0</td>\n",
       "      <td>0.000000</td>\n",
       "      <td>1</td>\n",
       "      <td>1</td>\n",
       "      <td>0</td>\n",
       "      <td>0</td>\n",
       "      <td>-0.241871</td>\n",
       "      <td>...</td>\n",
       "      <td>-0.120411</td>\n",
       "      <td>-0.729706</td>\n",
       "      <td>0.398482</td>\n",
       "      <td>0</td>\n",
       "      <td>0</td>\n",
       "      <td>0</td>\n",
       "      <td>0</td>\n",
       "      <td>0</td>\n",
       "      <td>0</td>\n",
       "      <td>1</td>\n",
       "    </tr>\n",
       "  </tbody>\n",
       "</table>\n",
       "<p>5 rows × 24 columns</p>\n",
       "</div>"
      ],
      "text/plain": [
       "        age  blood_pressure  specific_gravity  albumin     sugar  \\\n",
       "0 -0.297333         0.01875          0.822134      0.5  0.000000   \n",
       "1 -2.160969        -2.98125          0.822134      2.0  0.000000   \n",
       "2  0.339031         0.01875         -0.822134      1.0  3.911392   \n",
       "3 -0.297333        -0.98125         -1.644269      2.0  0.000000   \n",
       "4 -0.160969         0.01875         -0.822134      1.0  0.000000   \n",
       "\n",
       "   red_blood_cells  pus_cell  pus_cell_clumps  bacteria  blood_glucose_random  \\\n",
       "0                1         1                0         0             -0.040312   \n",
       "1                1         1                0         0              0.690943   \n",
       "2                1         1                0         0              4.017747   \n",
       "3                1         0                1         0             -0.094061   \n",
       "4                1         1                0         0             -0.241871   \n",
       "\n",
       "   ...  haemoglobin  white_blood_cell_count  red_blood_cell_count  \\\n",
       "0  ...     0.794711               -0.523520              0.876660   \n",
       "1  ...    -0.192657               -1.265788             -0.123340   \n",
       "2  ...    -0.602054               -0.647232             -0.123340   \n",
       "3  ...    -0.216739               -0.977128             -0.159393   \n",
       "4  ...    -0.120411               -0.729706              0.398482   \n",
       "\n",
       "   hypertension  diabetes_mellitus  coronary_artery_disease  appetite  \\\n",
       "0             1                  1                        0         0   \n",
       "1             0                  0                        0         0   \n",
       "2             0                  1                        0         1   \n",
       "3             1                  0                        0         1   \n",
       "4             0                  0                        0         0   \n",
       "\n",
       "   pedal_edema  anemia  classification  \n",
       "0            0       0               1  \n",
       "1            0       0               1  \n",
       "2            0       1               1  \n",
       "3            1       1               1  \n",
       "4            0       0               1  \n",
       "\n",
       "[5 rows x 24 columns]"
      ]
     },
     "execution_count": 53,
     "metadata": {},
     "output_type": "execute_result"
    }
   ],
   "source": [
    "df_org_1.head()"
   ]
  },
  {
   "cell_type": "code",
   "execution_count": 54,
   "id": "b7ba81ff",
   "metadata": {
    "ExecuteTime": {
     "end_time": "2022-04-09T20:38:04.016162Z",
     "start_time": "2022-04-09T20:38:04.008501Z"
    }
   },
   "outputs": [],
   "source": [
    "xs = df_org_1.drop('classification',axis=1)\n",
    "ys = df_org_1['classification']\n",
    "\n",
    "xs_train,xs_test,ys_train,ys_test = train_test_split(xs,ys,test_size=0.2,random_state=1234)"
   ]
  },
  {
   "cell_type": "code",
   "execution_count": 55,
   "id": "238fea57",
   "metadata": {
    "ExecuteTime": {
     "end_time": "2022-04-09T20:38:04.033087Z",
     "start_time": "2022-04-09T20:38:04.018393Z"
    }
   },
   "outputs": [
    {
     "data": {
      "text/plain": [
       "[('LR',\n",
       "  LogisticRegression(max_iter=1000, random_state=1234, solver='liblinear')),\n",
       " ('KNN', KNeighborsClassifier()),\n",
       " ('CART', DecisionTreeClassifier(random_state=1234)),\n",
       " ('RF', RandomForestClassifier(random_state=1234)),\n",
       " ('SVM', SVC(gamma='auto', random_state=1234)),\n",
       " ('XGB', GradientBoostingClassifier(random_state=1234)),\n",
       " ('LightGBM', LGBMClassifier(random_state=1234))]"
      ]
     },
     "execution_count": 55,
     "metadata": {},
     "output_type": "execute_result"
    }
   ],
   "source": [
    "models_s = []\n",
    "random_state = 1234\n",
    "models_s.append(('LR', LogisticRegression(random_state = random_state,solver='liblinear',max_iter=1000)))\n",
    "models_s.append(('KNN', KNeighborsClassifier()))\n",
    "models_s.append(('CART', DecisionTreeClassifier(random_state = random_state)))\n",
    "models_s.append(('RF', RandomForestClassifier(random_state = random_state)))\n",
    "models_s.append(('SVM', SVC(gamma='auto', random_state = random_state)))\n",
    "models_s.append(('XGB', GradientBoostingClassifier(random_state = random_state)))\n",
    "models_s.append((\"LightGBM\", LGBMClassifier(random_state = random_state)))\n",
    "\n",
    "models_s"
   ]
  },
  {
   "cell_type": "code",
   "execution_count": 56,
   "id": "426f83f3",
   "metadata": {
    "ExecuteTime": {
     "end_time": "2022-04-09T20:38:08.471505Z",
     "start_time": "2022-04-09T20:38:04.035563Z"
    }
   },
   "outputs": [
    {
     "name": "stdout",
     "output_type": "stream",
     "text": [
      "name : LR\n",
      "model : LogisticRegression(max_iter=1000, random_state=1234, solver='liblinear')\n",
      "[1.      0.96875 1.      1.      1.      1.      1.      1.      1.\n",
      " 1.     ] \n",
      "\n",
      "LR: 0.996875 (0.009375)\n",
      "Training accuracy score : 1.0\n",
      "test accuracy score :,1.0\n",
      "name : KNN\n",
      "model : KNeighborsClassifier()\n",
      "[0.96875 0.96875 0.9375  0.96875 0.96875 0.9375  0.9375  1.      0.9375\n",
      " 1.     ] \n",
      "\n",
      "KNN: 0.962500 (0.023385)\n",
      "Training accuracy score : 0.965625\n",
      "test accuracy score :,0.965625\n",
      "name : CART\n",
      "model : DecisionTreeClassifier(random_state=1234)\n",
      "[1.      1.      0.96875 1.      1.      1.      1.      1.      1.\n",
      " 1.     ] \n",
      "\n",
      "CART: 0.996875 (0.009375)\n",
      "Training accuracy score : 1.0\n",
      "test accuracy score :,1.0\n",
      "name : RF\n",
      "model : RandomForestClassifier(random_state=1234)\n",
      "[1. 1. 1. 1. 1. 1. 1. 1. 1. 1.] \n",
      "\n",
      "RF: 1.000000 (0.000000)\n",
      "Training accuracy score : 1.0\n",
      "test accuracy score :,1.0\n",
      "name : SVM\n",
      "model : SVC(gamma='auto', random_state=1234)\n",
      "[1.      0.96875 1.      1.      1.      0.96875 0.96875 1.      1.\n",
      " 1.     ] \n",
      "\n",
      "SVM: 0.990625 (0.014321)\n",
      "Training accuracy score : 1.0\n",
      "test accuracy score :,1.0\n",
      "name : XGB\n",
      "model : GradientBoostingClassifier(random_state=1234)\n",
      "[1.      0.96875 0.96875 1.      1.      1.      1.      1.      0.96875\n",
      " 1.     ] \n",
      "\n",
      "XGB: 0.990625 (0.014321)\n",
      "Training accuracy score : 1.0\n",
      "test accuracy score :,1.0\n",
      "name : LightGBM\n",
      "model : LGBMClassifier(random_state=1234)\n",
      "[0.96875 0.96875 1.      1.      1.      1.      1.      1.      0.96875\n",
      " 1.     ] \n",
      "\n",
      "LightGBM: 0.990625 (0.014321)\n",
      "Training accuracy score : 1.0\n",
      "test accuracy score :,1.0\n"
     ]
    }
   ],
   "source": [
    "cross_validation_results_s = []\n",
    "names_s   = []\n",
    "\n",
    "\n",
    "training_score_list_s = []\n",
    "testing_score_list_s  =[]\n",
    "\n",
    "for name, model in models_s:\n",
    "    print(\"name :\",name)\n",
    "    print(\"model :\",model)        \n",
    "    cv_results = cross_val_score(model, xs_train, ys_train, \n",
    "                                 cv = 10, scoring= \"accuracy\")\n",
    "    print(cv_results,\"\\n\")\n",
    "    cross_validation_results_s.append(cv_results)\n",
    "    names_s.append(name)\n",
    "    msg = \"%s: %f (%f)\" % (name, cv_results.mean(), cv_results.std())\n",
    "    print(msg)\n",
    "    model.fit(xs_train,ys_train)\n",
    "    train_score_s = accuracy_score(ys_train,model.predict(xs_train))\n",
    "    test_score_s  = accuracy_score(ys_test,model.predict(xs_test))\n",
    "    print(f\"Training accuracy score : {train_score_s}\")\n",
    "    print(f\"test accuracy score :,{train_score_s}\")\n",
    "    training_score_list_s.append(train_score_s)\n",
    "    testing_score_list_s.append(test_score_s)"
   ]
  },
  {
   "cell_type": "code",
   "execution_count": 57,
   "id": "912eb015",
   "metadata": {
    "ExecuteTime": {
     "end_time": "2022-04-09T20:38:08.494580Z",
     "start_time": "2022-04-09T20:38:08.475165Z"
    }
   },
   "outputs": [
    {
     "data": {
      "text/html": [
       "<div>\n",
       "<style scoped>\n",
       "    .dataframe tbody tr th:only-of-type {\n",
       "        vertical-align: middle;\n",
       "    }\n",
       "\n",
       "    .dataframe tbody tr th {\n",
       "        vertical-align: top;\n",
       "    }\n",
       "\n",
       "    .dataframe thead th {\n",
       "        text-align: right;\n",
       "    }\n",
       "</style>\n",
       "<table border=\"1\" class=\"dataframe\">\n",
       "  <thead>\n",
       "    <tr style=\"text-align: right;\">\n",
       "      <th></th>\n",
       "      <th>train_scores</th>\n",
       "      <th>validation_scores</th>\n",
       "      <th>test_scores</th>\n",
       "      <th>models</th>\n",
       "    </tr>\n",
       "  </thead>\n",
       "  <tbody>\n",
       "    <tr>\n",
       "      <th>0</th>\n",
       "      <td>1.000000</td>\n",
       "      <td>0.996875</td>\n",
       "      <td>1.000</td>\n",
       "      <td>LR</td>\n",
       "    </tr>\n",
       "    <tr>\n",
       "      <th>1</th>\n",
       "      <td>0.965625</td>\n",
       "      <td>0.962500</td>\n",
       "      <td>0.975</td>\n",
       "      <td>KNN</td>\n",
       "    </tr>\n",
       "    <tr>\n",
       "      <th>2</th>\n",
       "      <td>1.000000</td>\n",
       "      <td>0.996875</td>\n",
       "      <td>0.975</td>\n",
       "      <td>CART</td>\n",
       "    </tr>\n",
       "    <tr>\n",
       "      <th>3</th>\n",
       "      <td>1.000000</td>\n",
       "      <td>1.000000</td>\n",
       "      <td>1.000</td>\n",
       "      <td>RF</td>\n",
       "    </tr>\n",
       "    <tr>\n",
       "      <th>4</th>\n",
       "      <td>1.000000</td>\n",
       "      <td>0.990625</td>\n",
       "      <td>1.000</td>\n",
       "      <td>SVM</td>\n",
       "    </tr>\n",
       "    <tr>\n",
       "      <th>5</th>\n",
       "      <td>1.000000</td>\n",
       "      <td>0.990625</td>\n",
       "      <td>0.975</td>\n",
       "      <td>XGB</td>\n",
       "    </tr>\n",
       "    <tr>\n",
       "      <th>6</th>\n",
       "      <td>1.000000</td>\n",
       "      <td>0.990625</td>\n",
       "      <td>1.000</td>\n",
       "      <td>LightGBM</td>\n",
       "    </tr>\n",
       "  </tbody>\n",
       "</table>\n",
       "</div>"
      ],
      "text/plain": [
       "   train_scores  validation_scores  test_scores    models\n",
       "0      1.000000           0.996875        1.000        LR\n",
       "1      0.965625           0.962500        0.975       KNN\n",
       "2      1.000000           0.996875        0.975      CART\n",
       "3      1.000000           1.000000        1.000        RF\n",
       "4      1.000000           0.990625        1.000       SVM\n",
       "5      1.000000           0.990625        0.975       XGB\n",
       "6      1.000000           0.990625        1.000  LightGBM"
      ]
     },
     "execution_count": 57,
     "metadata": {},
     "output_type": "execute_result"
    }
   ],
   "source": [
    "results_df_s = pd.DataFrame({\"train_scores\":training_score_list_s,\n",
    "                           \n",
    "                           'validation_scores':np.array(\n",
    "                               cross_validation_results_s).mean(axis=1),\n",
    "                           \"test_scores\":testing_score_list_s,\n",
    "                           'models':names_s\n",
    "                          },)\n",
    "results_df_s"
   ]
  },
  {
   "cell_type": "code",
   "execution_count": 58,
   "id": "2eda8f85",
   "metadata": {
    "ExecuteTime": {
     "end_time": "2022-04-09T20:38:08.534753Z",
     "start_time": "2022-04-09T20:38:08.501904Z"
    }
   },
   "outputs": [
    {
     "data": {
      "text/html": [
       "<div>\n",
       "<style scoped>\n",
       "    .dataframe tbody tr th:only-of-type {\n",
       "        vertical-align: middle;\n",
       "    }\n",
       "\n",
       "    .dataframe tbody tr th {\n",
       "        vertical-align: top;\n",
       "    }\n",
       "\n",
       "    .dataframe thead th {\n",
       "        text-align: right;\n",
       "    }\n",
       "</style>\n",
       "<table border=\"1\" class=\"dataframe\">\n",
       "  <thead>\n",
       "    <tr style=\"text-align: right;\">\n",
       "      <th></th>\n",
       "      <th>models</th>\n",
       "      <th>variable</th>\n",
       "      <th>value</th>\n",
       "    </tr>\n",
       "  </thead>\n",
       "  <tbody>\n",
       "    <tr>\n",
       "      <th>0</th>\n",
       "      <td>LR</td>\n",
       "      <td>train_scores</td>\n",
       "      <td>1.000000</td>\n",
       "    </tr>\n",
       "    <tr>\n",
       "      <th>1</th>\n",
       "      <td>KNN</td>\n",
       "      <td>train_scores</td>\n",
       "      <td>0.965625</td>\n",
       "    </tr>\n",
       "    <tr>\n",
       "      <th>2</th>\n",
       "      <td>CART</td>\n",
       "      <td>train_scores</td>\n",
       "      <td>1.000000</td>\n",
       "    </tr>\n",
       "    <tr>\n",
       "      <th>3</th>\n",
       "      <td>RF</td>\n",
       "      <td>train_scores</td>\n",
       "      <td>1.000000</td>\n",
       "    </tr>\n",
       "    <tr>\n",
       "      <th>4</th>\n",
       "      <td>SVM</td>\n",
       "      <td>train_scores</td>\n",
       "      <td>1.000000</td>\n",
       "    </tr>\n",
       "    <tr>\n",
       "      <th>5</th>\n",
       "      <td>XGB</td>\n",
       "      <td>train_scores</td>\n",
       "      <td>1.000000</td>\n",
       "    </tr>\n",
       "    <tr>\n",
       "      <th>6</th>\n",
       "      <td>LightGBM</td>\n",
       "      <td>train_scores</td>\n",
       "      <td>1.000000</td>\n",
       "    </tr>\n",
       "    <tr>\n",
       "      <th>7</th>\n",
       "      <td>LR</td>\n",
       "      <td>validation_scores</td>\n",
       "      <td>0.996875</td>\n",
       "    </tr>\n",
       "    <tr>\n",
       "      <th>8</th>\n",
       "      <td>KNN</td>\n",
       "      <td>validation_scores</td>\n",
       "      <td>0.962500</td>\n",
       "    </tr>\n",
       "    <tr>\n",
       "      <th>9</th>\n",
       "      <td>CART</td>\n",
       "      <td>validation_scores</td>\n",
       "      <td>0.996875</td>\n",
       "    </tr>\n",
       "    <tr>\n",
       "      <th>10</th>\n",
       "      <td>RF</td>\n",
       "      <td>validation_scores</td>\n",
       "      <td>1.000000</td>\n",
       "    </tr>\n",
       "    <tr>\n",
       "      <th>11</th>\n",
       "      <td>SVM</td>\n",
       "      <td>validation_scores</td>\n",
       "      <td>0.990625</td>\n",
       "    </tr>\n",
       "    <tr>\n",
       "      <th>12</th>\n",
       "      <td>XGB</td>\n",
       "      <td>validation_scores</td>\n",
       "      <td>0.990625</td>\n",
       "    </tr>\n",
       "    <tr>\n",
       "      <th>13</th>\n",
       "      <td>LightGBM</td>\n",
       "      <td>validation_scores</td>\n",
       "      <td>0.990625</td>\n",
       "    </tr>\n",
       "    <tr>\n",
       "      <th>14</th>\n",
       "      <td>LR</td>\n",
       "      <td>test_scores</td>\n",
       "      <td>1.000000</td>\n",
       "    </tr>\n",
       "    <tr>\n",
       "      <th>15</th>\n",
       "      <td>KNN</td>\n",
       "      <td>test_scores</td>\n",
       "      <td>0.975000</td>\n",
       "    </tr>\n",
       "    <tr>\n",
       "      <th>16</th>\n",
       "      <td>CART</td>\n",
       "      <td>test_scores</td>\n",
       "      <td>0.975000</td>\n",
       "    </tr>\n",
       "    <tr>\n",
       "      <th>17</th>\n",
       "      <td>RF</td>\n",
       "      <td>test_scores</td>\n",
       "      <td>1.000000</td>\n",
       "    </tr>\n",
       "    <tr>\n",
       "      <th>18</th>\n",
       "      <td>SVM</td>\n",
       "      <td>test_scores</td>\n",
       "      <td>1.000000</td>\n",
       "    </tr>\n",
       "    <tr>\n",
       "      <th>19</th>\n",
       "      <td>XGB</td>\n",
       "      <td>test_scores</td>\n",
       "      <td>0.975000</td>\n",
       "    </tr>\n",
       "    <tr>\n",
       "      <th>20</th>\n",
       "      <td>LightGBM</td>\n",
       "      <td>test_scores</td>\n",
       "      <td>1.000000</td>\n",
       "    </tr>\n",
       "  </tbody>\n",
       "</table>\n",
       "</div>"
      ],
      "text/plain": [
       "      models           variable     value\n",
       "0         LR       train_scores  1.000000\n",
       "1        KNN       train_scores  0.965625\n",
       "2       CART       train_scores  1.000000\n",
       "3         RF       train_scores  1.000000\n",
       "4        SVM       train_scores  1.000000\n",
       "5        XGB       train_scores  1.000000\n",
       "6   LightGBM       train_scores  1.000000\n",
       "7         LR  validation_scores  0.996875\n",
       "8        KNN  validation_scores  0.962500\n",
       "9       CART  validation_scores  0.996875\n",
       "10        RF  validation_scores  1.000000\n",
       "11       SVM  validation_scores  0.990625\n",
       "12       XGB  validation_scores  0.990625\n",
       "13  LightGBM  validation_scores  0.990625\n",
       "14        LR        test_scores  1.000000\n",
       "15       KNN        test_scores  0.975000\n",
       "16      CART        test_scores  0.975000\n",
       "17        RF        test_scores  1.000000\n",
       "18       SVM        test_scores  1.000000\n",
       "19       XGB        test_scores  0.975000\n",
       "20  LightGBM        test_scores  1.000000"
      ]
     },
     "execution_count": 58,
     "metadata": {},
     "output_type": "execute_result"
    }
   ],
   "source": [
    "results_df_melt_s = results_df_s.melt(id_vars='models')\n",
    "results_df_melt_s"
   ]
  },
  {
   "cell_type": "code",
   "execution_count": 59,
   "id": "274f6f2c",
   "metadata": {
    "ExecuteTime": {
     "end_time": "2022-04-09T20:38:09.016665Z",
     "start_time": "2022-04-09T20:38:08.538193Z"
    }
   },
   "outputs": [
    {
     "data": {
      "image/png": "[encoded data removed]",
      "text/plain": [
       "<Figure size 1152x720 with 1 Axes>"
      ]
     },
     "metadata": {
      "needs_background": "light"
     },
     "output_type": "display_data"
    }
   ],
   "source": [
    "plt.rc('font',size=20)\n",
    "\n",
    "plt.figure(figsize=[16,10])\n",
    "plt.title( \"score comparison after scaling\")\n",
    "sns.barplot(data=results_df_melt_s,y='models',x='value',hue='variable')\n",
    "plt.legend(bbox_to_anchor=(1.01, 1),loc='upper left')\n",
    "\n",
    "plt.tight_layout()\n",
    "# plt.savefig(\"images/model_score_after_scaling.png\",facecolor='white', \n",
    "#             transparent=False,dpi=150)"
   ]
  },
  {
   "cell_type": "markdown",
   "id": "8c1648a1",
   "metadata": {},
   "source": [
    "## comparison of models before and after scaling"
   ]
  },
  {
   "cell_type": "code",
   "execution_count": 60,
   "id": "81ff742f",
   "metadata": {
    "ExecuteTime": {
     "end_time": "2022-04-09T20:38:09.032157Z",
     "start_time": "2022-04-09T20:38:09.019535Z"
    }
   },
   "outputs": [
    {
     "data": {
      "text/html": [
       "<div>\n",
       "<style scoped>\n",
       "    .dataframe tbody tr th:only-of-type {\n",
       "        vertical-align: middle;\n",
       "    }\n",
       "\n",
       "    .dataframe tbody tr th {\n",
       "        vertical-align: top;\n",
       "    }\n",
       "\n",
       "    .dataframe thead th {\n",
       "        text-align: right;\n",
       "    }\n",
       "</style>\n",
       "<table border=\"1\" class=\"dataframe\">\n",
       "  <thead>\n",
       "    <tr style=\"text-align: right;\">\n",
       "      <th></th>\n",
       "      <th>test_scores</th>\n",
       "      <th>models</th>\n",
       "      <th>scaled</th>\n",
       "    </tr>\n",
       "  </thead>\n",
       "  <tbody>\n",
       "    <tr>\n",
       "      <th>0</th>\n",
       "      <td>0.991667</td>\n",
       "      <td>LR</td>\n",
       "      <td>No</td>\n",
       "    </tr>\n",
       "    <tr>\n",
       "      <th>1</th>\n",
       "      <td>0.758333</td>\n",
       "      <td>KNN</td>\n",
       "      <td>No</td>\n",
       "    </tr>\n",
       "    <tr>\n",
       "      <th>2</th>\n",
       "      <td>1.000000</td>\n",
       "      <td>CART</td>\n",
       "      <td>No</td>\n",
       "    </tr>\n",
       "    <tr>\n",
       "      <th>3</th>\n",
       "      <td>1.000000</td>\n",
       "      <td>RF</td>\n",
       "      <td>No</td>\n",
       "    </tr>\n",
       "    <tr>\n",
       "      <th>4</th>\n",
       "      <td>0.658333</td>\n",
       "      <td>SVM</td>\n",
       "      <td>No</td>\n",
       "    </tr>\n",
       "    <tr>\n",
       "      <th>5</th>\n",
       "      <td>1.000000</td>\n",
       "      <td>XGB</td>\n",
       "      <td>No</td>\n",
       "    </tr>\n",
       "    <tr>\n",
       "      <th>6</th>\n",
       "      <td>0.991667</td>\n",
       "      <td>LightGBM</td>\n",
       "      <td>No</td>\n",
       "    </tr>\n",
       "  </tbody>\n",
       "</table>\n",
       "</div>"
      ],
      "text/plain": [
       "   test_scores    models scaled\n",
       "0     0.991667        LR     No\n",
       "1     0.758333       KNN     No\n",
       "2     1.000000      CART     No\n",
       "3     1.000000        RF     No\n",
       "4     0.658333       SVM     No\n",
       "5     1.000000       XGB     No\n",
       "6     0.991667  LightGBM     No"
      ]
     },
     "execution_count": 60,
     "metadata": {},
     "output_type": "execute_result"
    }
   ],
   "source": [
    "before_scaling_test =results_df.copy()[['test_scores','models']]\n",
    "before_scaling_test['scaled']='No'\n",
    "before_scaling_test"
   ]
  },
  {
   "cell_type": "code",
   "execution_count": 61,
   "id": "89d2ecf2",
   "metadata": {
    "ExecuteTime": {
     "end_time": "2022-04-09T20:38:09.054829Z",
     "start_time": "2022-04-09T20:38:09.038310Z"
    }
   },
   "outputs": [
    {
     "data": {
      "text/html": [
       "<div>\n",
       "<style scoped>\n",
       "    .dataframe tbody tr th:only-of-type {\n",
       "        vertical-align: middle;\n",
       "    }\n",
       "\n",
       "    .dataframe tbody tr th {\n",
       "        vertical-align: top;\n",
       "    }\n",
       "\n",
       "    .dataframe thead th {\n",
       "        text-align: right;\n",
       "    }\n",
       "</style>\n",
       "<table border=\"1\" class=\"dataframe\">\n",
       "  <thead>\n",
       "    <tr style=\"text-align: right;\">\n",
       "      <th></th>\n",
       "      <th>test_scores</th>\n",
       "      <th>models</th>\n",
       "      <th>scaled</th>\n",
       "    </tr>\n",
       "  </thead>\n",
       "  <tbody>\n",
       "    <tr>\n",
       "      <th>0</th>\n",
       "      <td>1.000</td>\n",
       "      <td>LR</td>\n",
       "      <td>Yes</td>\n",
       "    </tr>\n",
       "    <tr>\n",
       "      <th>1</th>\n",
       "      <td>0.975</td>\n",
       "      <td>KNN</td>\n",
       "      <td>Yes</td>\n",
       "    </tr>\n",
       "    <tr>\n",
       "      <th>2</th>\n",
       "      <td>0.975</td>\n",
       "      <td>CART</td>\n",
       "      <td>Yes</td>\n",
       "    </tr>\n",
       "    <tr>\n",
       "      <th>3</th>\n",
       "      <td>1.000</td>\n",
       "      <td>RF</td>\n",
       "      <td>Yes</td>\n",
       "    </tr>\n",
       "    <tr>\n",
       "      <th>4</th>\n",
       "      <td>1.000</td>\n",
       "      <td>SVM</td>\n",
       "      <td>Yes</td>\n",
       "    </tr>\n",
       "    <tr>\n",
       "      <th>5</th>\n",
       "      <td>0.975</td>\n",
       "      <td>XGB</td>\n",
       "      <td>Yes</td>\n",
       "    </tr>\n",
       "    <tr>\n",
       "      <th>6</th>\n",
       "      <td>1.000</td>\n",
       "      <td>LightGBM</td>\n",
       "      <td>Yes</td>\n",
       "    </tr>\n",
       "  </tbody>\n",
       "</table>\n",
       "</div>"
      ],
      "text/plain": [
       "   test_scores    models scaled\n",
       "0        1.000        LR    Yes\n",
       "1        0.975       KNN    Yes\n",
       "2        0.975      CART    Yes\n",
       "3        1.000        RF    Yes\n",
       "4        1.000       SVM    Yes\n",
       "5        0.975       XGB    Yes\n",
       "6        1.000  LightGBM    Yes"
      ]
     },
     "execution_count": 61,
     "metadata": {},
     "output_type": "execute_result"
    }
   ],
   "source": [
    "after_scaling_test =results_df_s.copy()[['test_scores','models']]\n",
    "after_scaling_test['scaled']='Yes'\n",
    "after_scaling_test"
   ]
  },
  {
   "cell_type": "code",
   "execution_count": 62,
   "id": "9d86a466",
   "metadata": {
    "ExecuteTime": {
     "end_time": "2022-04-09T20:38:09.070707Z",
     "start_time": "2022-04-09T20:38:09.057751Z"
    }
   },
   "outputs": [
    {
     "data": {
      "text/html": [
       "<div>\n",
       "<style scoped>\n",
       "    .dataframe tbody tr th:only-of-type {\n",
       "        vertical-align: middle;\n",
       "    }\n",
       "\n",
       "    .dataframe tbody tr th {\n",
       "        vertical-align: top;\n",
       "    }\n",
       "\n",
       "    .dataframe thead th {\n",
       "        text-align: right;\n",
       "    }\n",
       "</style>\n",
       "<table border=\"1\" class=\"dataframe\">\n",
       "  <thead>\n",
       "    <tr style=\"text-align: right;\">\n",
       "      <th></th>\n",
       "      <th>test_scores</th>\n",
       "      <th>models</th>\n",
       "      <th>scaled</th>\n",
       "    </tr>\n",
       "  </thead>\n",
       "  <tbody>\n",
       "    <tr>\n",
       "      <th>0</th>\n",
       "      <td>0.991667</td>\n",
       "      <td>LR</td>\n",
       "      <td>No</td>\n",
       "    </tr>\n",
       "    <tr>\n",
       "      <th>1</th>\n",
       "      <td>0.758333</td>\n",
       "      <td>KNN</td>\n",
       "      <td>No</td>\n",
       "    </tr>\n",
       "    <tr>\n",
       "      <th>2</th>\n",
       "      <td>1.000000</td>\n",
       "      <td>CART</td>\n",
       "      <td>No</td>\n",
       "    </tr>\n",
       "    <tr>\n",
       "      <th>3</th>\n",
       "      <td>1.000000</td>\n",
       "      <td>RF</td>\n",
       "      <td>No</td>\n",
       "    </tr>\n",
       "    <tr>\n",
       "      <th>4</th>\n",
       "      <td>0.658333</td>\n",
       "      <td>SVM</td>\n",
       "      <td>No</td>\n",
       "    </tr>\n",
       "    <tr>\n",
       "      <th>5</th>\n",
       "      <td>1.000000</td>\n",
       "      <td>XGB</td>\n",
       "      <td>No</td>\n",
       "    </tr>\n",
       "    <tr>\n",
       "      <th>6</th>\n",
       "      <td>0.991667</td>\n",
       "      <td>LightGBM</td>\n",
       "      <td>No</td>\n",
       "    </tr>\n",
       "    <tr>\n",
       "      <th>0</th>\n",
       "      <td>1.000000</td>\n",
       "      <td>LR</td>\n",
       "      <td>Yes</td>\n",
       "    </tr>\n",
       "    <tr>\n",
       "      <th>1</th>\n",
       "      <td>0.975000</td>\n",
       "      <td>KNN</td>\n",
       "      <td>Yes</td>\n",
       "    </tr>\n",
       "    <tr>\n",
       "      <th>2</th>\n",
       "      <td>0.975000</td>\n",
       "      <td>CART</td>\n",
       "      <td>Yes</td>\n",
       "    </tr>\n",
       "    <tr>\n",
       "      <th>3</th>\n",
       "      <td>1.000000</td>\n",
       "      <td>RF</td>\n",
       "      <td>Yes</td>\n",
       "    </tr>\n",
       "    <tr>\n",
       "      <th>4</th>\n",
       "      <td>1.000000</td>\n",
       "      <td>SVM</td>\n",
       "      <td>Yes</td>\n",
       "    </tr>\n",
       "    <tr>\n",
       "      <th>5</th>\n",
       "      <td>0.975000</td>\n",
       "      <td>XGB</td>\n",
       "      <td>Yes</td>\n",
       "    </tr>\n",
       "    <tr>\n",
       "      <th>6</th>\n",
       "      <td>1.000000</td>\n",
       "      <td>LightGBM</td>\n",
       "      <td>Yes</td>\n",
       "    </tr>\n",
       "  </tbody>\n",
       "</table>\n",
       "</div>"
      ],
      "text/plain": [
       "   test_scores    models scaled\n",
       "0     0.991667        LR     No\n",
       "1     0.758333       KNN     No\n",
       "2     1.000000      CART     No\n",
       "3     1.000000        RF     No\n",
       "4     0.658333       SVM     No\n",
       "5     1.000000       XGB     No\n",
       "6     0.991667  LightGBM     No\n",
       "0     1.000000        LR    Yes\n",
       "1     0.975000       KNN    Yes\n",
       "2     0.975000      CART    Yes\n",
       "3     1.000000        RF    Yes\n",
       "4     1.000000       SVM    Yes\n",
       "5     0.975000       XGB    Yes\n",
       "6     1.000000  LightGBM    Yes"
      ]
     },
     "execution_count": 62,
     "metadata": {},
     "output_type": "execute_result"
    }
   ],
   "source": [
    "combined_results = pd.concat([before_scaling_test,after_scaling_test])\n",
    "combined_results"
   ]
  },
  {
   "cell_type": "code",
   "execution_count": 63,
   "id": "18b40a79",
   "metadata": {
    "ExecuteTime": {
     "end_time": "2022-04-09T20:38:09.474337Z",
     "start_time": "2022-04-09T20:38:09.073102Z"
    }
   },
   "outputs": [
    {
     "data": {
      "image/png": "[encoded data removed]",
      "text/plain": [
       "<Figure size 1152x720 with 1 Axes>"
      ]
     },
     "metadata": {
      "needs_background": "light"
     },
     "output_type": "display_data"
    }
   ],
   "source": [
    "plt.rc('font',size=22)\n",
    "\n",
    "plt.figure(figsize=[16,10])\n",
    "plt.title( \"test score comparison before and after scaling\")\n",
    "sns.barplot(data=combined_results,y='models',x='test_scores',hue='scaled')\n",
    "plt.legend(bbox_to_anchor=(1.01, 1),loc='upper left')\n",
    "\n",
    "plt.tight_layout()\n",
    "# plt.savefig(\"images/model_comparison_before_and_after_scaling.png\",facecolor='white', \n",
    "#             transparent=False,dpi=150)"
   ]
  },
  {
   "cell_type": "markdown",
   "id": "e22f3da3",
   "metadata": {},
   "source": [
    "From the above comparison it is clear that the performance KNN and SVM improved a lot after scaling data."
   ]
  },
  {
   "cell_type": "markdown",
   "id": "f0c97ac4",
   "metadata": {},
   "source": [
    "## feature importance"
   ]
  },
  {
   "cell_type": "code",
   "execution_count": 64,
   "id": "aec2b4d0",
   "metadata": {
    "ExecuteTime": {
     "end_time": "2022-04-09T20:38:09.484240Z",
     "start_time": "2022-04-09T20:38:09.477501Z"
    }
   },
   "outputs": [
    {
     "data": {
      "text/plain": [
       "[('LR',\n",
       "  LogisticRegression(max_iter=1000, random_state=1234, solver='liblinear')),\n",
       " ('KNN', KNeighborsClassifier()),\n",
       " ('CART', DecisionTreeClassifier(random_state=1234)),\n",
       " ('RF', RandomForestClassifier(random_state=1234)),\n",
       " ('SVM', SVC(gamma='auto', random_state=1234)),\n",
       " ('XGB', GradientBoostingClassifier(random_state=1234)),\n",
       " ('LightGBM', LGBMClassifier(random_state=1234))]"
      ]
     },
     "execution_count": 64,
     "metadata": {},
     "output_type": "execute_result"
    }
   ],
   "source": [
    "models_s"
   ]
  },
  {
   "cell_type": "markdown",
   "id": "22e20a58",
   "metadata": {},
   "source": [
    "### LogisticRegression"
   ]
  },
  {
   "cell_type": "code",
   "execution_count": 65,
   "id": "363f6089",
   "metadata": {
    "ExecuteTime": {
     "end_time": "2022-04-09T20:38:09.492656Z",
     "start_time": "2022-04-09T20:38:09.486825Z"
    }
   },
   "outputs": [],
   "source": [
    "feature_importance_df = pd.DataFrame()\n",
    "feature_importance_df['features'] = xs.columns\n",
    "feature_importance_df['importance'] = np.abs(models_s[0][1].coef_[0])\n",
    "feature_importance_df.sort_values('importance',ascending=False,inplace=True)\n"
   ]
  },
  {
   "cell_type": "code",
   "execution_count": 66,
   "id": "686a55ca",
   "metadata": {
    "ExecuteTime": {
     "end_time": "2022-04-09T20:38:09.967627Z",
     "start_time": "2022-04-09T20:38:09.495135Z"
    }
   },
   "outputs": [
    {
     "data": {
      "image/png": "[encoded data removed]",
      "text/plain": [
       "<Figure size 1152x720 with 1 Axes>"
      ]
     },
     "metadata": {
      "needs_background": "light"
     },
     "output_type": "display_data"
    }
   ],
   "source": [
    "plt.rc('font',size=21)\n",
    "plt.figure(figsize=[16,10])\n",
    "sns.barplot(x='importance',\n",
    "            y='features',\n",
    "            data=feature_importance_df,palette='Greens_r')\n",
    "plt.tight_layout()\n",
    "# plt.savefig(\"images/logistic_regression_imp.png\",facecolor='white', \n",
    "#             transparent=False,dpi=150)"
   ]
  },
  {
   "cell_type": "markdown",
   "id": "45e3cd27",
   "metadata": {},
   "source": [
    "### RandomForestClassifier"
   ]
  },
  {
   "cell_type": "code",
   "execution_count": 67,
   "id": "d5be4666",
   "metadata": {
    "ExecuteTime": {
     "end_time": "2022-04-09T20:38:10.015527Z",
     "start_time": "2022-04-09T20:38:09.971124Z"
    }
   },
   "outputs": [
    {
     "name": "stdout",
     "output_type": "stream",
     "text": [
      "RandomForestClassifier(random_state=1234)\n"
     ]
    },
    {
     "data": {
      "text/html": [
       "<div>\n",
       "<style scoped>\n",
       "    .dataframe tbody tr th:only-of-type {\n",
       "        vertical-align: middle;\n",
       "    }\n",
       "\n",
       "    .dataframe tbody tr th {\n",
       "        vertical-align: top;\n",
       "    }\n",
       "\n",
       "    .dataframe thead th {\n",
       "        text-align: right;\n",
       "    }\n",
       "</style>\n",
       "<table border=\"1\" class=\"dataframe\">\n",
       "  <thead>\n",
       "    <tr style=\"text-align: right;\">\n",
       "      <th></th>\n",
       "      <th>features</th>\n",
       "      <th>importance</th>\n",
       "    </tr>\n",
       "  </thead>\n",
       "  <tbody>\n",
       "    <tr>\n",
       "      <th>14</th>\n",
       "      <td>haemoglobin</td>\n",
       "      <td>0.237692</td>\n",
       "    </tr>\n",
       "    <tr>\n",
       "      <th>16</th>\n",
       "      <td>red_blood_cell_count</td>\n",
       "      <td>0.210717</td>\n",
       "    </tr>\n",
       "    <tr>\n",
       "      <th>2</th>\n",
       "      <td>specific_gravity</td>\n",
       "      <td>0.135225</td>\n",
       "    </tr>\n",
       "    <tr>\n",
       "      <th>11</th>\n",
       "      <td>serum_creatinine</td>\n",
       "      <td>0.100131</td>\n",
       "    </tr>\n",
       "    <tr>\n",
       "      <th>3</th>\n",
       "      <td>albumin</td>\n",
       "      <td>0.080189</td>\n",
       "    </tr>\n",
       "  </tbody>\n",
       "</table>\n",
       "</div>"
      ],
      "text/plain": [
       "                features  importance\n",
       "14           haemoglobin    0.237692\n",
       "16  red_blood_cell_count    0.210717\n",
       "2       specific_gravity    0.135225\n",
       "11      serum_creatinine    0.100131\n",
       "3                albumin    0.080189"
      ]
     },
     "execution_count": 67,
     "metadata": {},
     "output_type": "execute_result"
    }
   ],
   "source": [
    "print(models_s[3][1])\n",
    "feature_importance_df = pd.DataFrame()\n",
    "feature_importance_df['features'] = xs.columns\n",
    "feature_importance_df['importance'] = np.abs(models_s[3][1].feature_importances_)\n",
    "feature_importance_df.sort_values('importance',ascending=False,inplace=True)\n",
    "feature_importance_df.head()"
   ]
  },
  {
   "cell_type": "code",
   "execution_count": 68,
   "id": "58719527",
   "metadata": {
    "ExecuteTime": {
     "end_time": "2022-04-09T20:38:10.519179Z",
     "start_time": "2022-04-09T20:38:10.023223Z"
    }
   },
   "outputs": [
    {
     "data": {
      "image/png": "[encoded data removed]",
      "text/plain": [
       "<Figure size 1152x720 with 1 Axes>"
      ]
     },
     "metadata": {
      "needs_background": "light"
     },
     "output_type": "display_data"
    }
   ],
   "source": [
    "plt.rc('font',size=21)\n",
    "plt.figure(figsize=[16,10])\n",
    "sns.barplot(x='importance',\n",
    "            y='features',\n",
    "            data=feature_importance_df,palette='Greens_r')\n",
    "plt.tight_layout()\n",
    "# plt.savefig(\"images/Randomforest_imp.png\",facecolor='white', \n",
    "#             transparent=False,dpi=150)"
   ]
  },
  {
   "cell_type": "markdown",
   "id": "b0a7af52",
   "metadata": {},
   "source": [
    "### Lightgbm"
   ]
  },
  {
   "cell_type": "code",
   "execution_count": 69,
   "id": "0c3057c0",
   "metadata": {
    "ExecuteTime": {
     "end_time": "2022-04-09T20:38:10.534430Z",
     "start_time": "2022-04-09T20:38:10.521586Z"
    }
   },
   "outputs": [
    {
     "name": "stdout",
     "output_type": "stream",
     "text": [
      "LGBMClassifier(random_state=1234)\n"
     ]
    },
    {
     "data": {
      "text/html": [
       "<div>\n",
       "<style scoped>\n",
       "    .dataframe tbody tr th:only-of-type {\n",
       "        vertical-align: middle;\n",
       "    }\n",
       "\n",
       "    .dataframe tbody tr th {\n",
       "        vertical-align: top;\n",
       "    }\n",
       "\n",
       "    .dataframe thead th {\n",
       "        text-align: right;\n",
       "    }\n",
       "</style>\n",
       "<table border=\"1\" class=\"dataframe\">\n",
       "  <thead>\n",
       "    <tr style=\"text-align: right;\">\n",
       "      <th></th>\n",
       "      <th>features</th>\n",
       "      <th>importance</th>\n",
       "    </tr>\n",
       "  </thead>\n",
       "  <tbody>\n",
       "    <tr>\n",
       "      <th>14</th>\n",
       "      <td>haemoglobin</td>\n",
       "      <td>312</td>\n",
       "    </tr>\n",
       "    <tr>\n",
       "      <th>16</th>\n",
       "      <td>red_blood_cell_count</td>\n",
       "      <td>203</td>\n",
       "    </tr>\n",
       "    <tr>\n",
       "      <th>9</th>\n",
       "      <td>blood_glucose_random</td>\n",
       "      <td>153</td>\n",
       "    </tr>\n",
       "    <tr>\n",
       "      <th>11</th>\n",
       "      <td>serum_creatinine</td>\n",
       "      <td>150</td>\n",
       "    </tr>\n",
       "    <tr>\n",
       "      <th>3</th>\n",
       "      <td>albumin</td>\n",
       "      <td>133</td>\n",
       "    </tr>\n",
       "  </tbody>\n",
       "</table>\n",
       "</div>"
      ],
      "text/plain": [
       "                features  importance\n",
       "14           haemoglobin         312\n",
       "16  red_blood_cell_count         203\n",
       "9   blood_glucose_random         153\n",
       "11      serum_creatinine         150\n",
       "3                albumin         133"
      ]
     },
     "execution_count": 69,
     "metadata": {},
     "output_type": "execute_result"
    }
   ],
   "source": [
    "print(models_s[6][1])\n",
    "feature_importance_df = pd.DataFrame()\n",
    "feature_importance_df['features'] = xs.columns\n",
    "feature_importance_df['importance'] = np.abs(models_s[6][1].feature_importances_)\n",
    "feature_importance_df.sort_values('importance',ascending=False,inplace=True)\n",
    "feature_importance_df.head()"
   ]
  },
  {
   "cell_type": "code",
   "execution_count": 70,
   "id": "ec8839b2",
   "metadata": {
    "ExecuteTime": {
     "end_time": "2022-04-09T20:38:11.036150Z",
     "start_time": "2022-04-09T20:38:10.537394Z"
    }
   },
   "outputs": [
    {
     "data": {
      "image/png": "[encoded data removed]",
      "text/plain": [
       "<Figure size 1152x720 with 1 Axes>"
      ]
     },
     "metadata": {
      "needs_background": "light"
     },
     "output_type": "display_data"
    }
   ],
   "source": [
    "plt.rc('font',size=21)\n",
    "plt.figure(figsize=[16,10])\n",
    "sns.barplot(x='importance',\n",
    "            y='features',\n",
    "            data=feature_importance_df,palette='Greens_r')\n",
    "plt.tight_layout()\n",
    "# plt.savefig(\"images/Lightgbm_imp.png\",facecolor='white', \n",
    "#             transparent=False,dpi=150)"
   ]
  },
  {
   "cell_type": "markdown",
   "id": "97720450",
   "metadata": {},
   "source": [
    "# Conclusion"
   ]
  },
  {
   "cell_type": "markdown",
   "id": "dc4cd789",
   "metadata": {},
   "source": [
    "- I cleaned the data for categorical features. \n",
    "- Filled the missing values based on categorical stats.\n",
    "- Calculated cross validation of 7 machine learning models and compared the validation score with test score.\n",
    "- Scaling the data improved the performance of KNN and SVM.\n",
    "\n",
    "Almost all the models give priority to the following features.\n",
    "\n",
    "    haemoglobin, red_blood_cell_count, serum_creatinine, blood_glucose_random, specific_gravity, and albumin\n"
   ]
  },
  {
   "cell_type": "code",
   "execution_count": null,
   "id": "290658dd",
   "metadata": {},
   "outputs": [],
   "source": []
  }
 ],
 "metadata": {
  "kernelspec": {
   "display_name": "Python 3 (ipykernel)",
   "language": "python",
   "name": "python3"
  },
  "language_info": {
   "codemirror_mode": {
    "name": "ipython",
    "version": 3
   },
   "file_extension": ".py",
   "mimetype": "text/x-python",
   "name": "python",
   "nbconvert_exporter": "python",
   "pygments_lexer": "ipython3",
   "version": "3.8.12"
  },
  "toc": {
   "base_numbering": 1,
   "nav_menu": {},
   "number_sections": false,
   "sideBar": true,
   "skip_h1_title": false,
   "title_cell": "Table of Contents",
   "title_sidebar": "Contents",
   "toc_cell": true,
   "toc_position": {
    "height": "calc(100% - 180px)",
    "left": "10px",
    "top": "150px",
    "width": "281.475px"
   },
   "toc_section_display": true,
   "toc_window_display": true
  },
  "varInspector": {
   "cols": {
    "lenName": 16,
    "lenType": 16,
    "lenVar": 40
   },
   "kernels_config": {
    "python": {
     "delete_cmd_postfix": "",
     "delete_cmd_prefix": "del ",
     "library": "var_list.py",
     "varRefreshCmd": "print(var_dic_list())"
    },
    "r": {
     "delete_cmd_postfix": ") ",
     "delete_cmd_prefix": "rm(",
     "library": "var_list.r",
     "varRefreshCmd": "cat(var_dic_list()) "
    }
   },
   "types_to_exclude": [
    "module",
    "function",
    "builtin_function_or_method",
    "instance",
    "_Feature"
   ],
   "window_display": false
  }
 },
 "nbformat": 4,
 "nbformat_minor": 5
}
